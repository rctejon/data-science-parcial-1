{
  "cells": [
    {
      "cell_type": "markdown",
      "source": [
        "Al entregar la solución de este parcial, yo, Rafael Camilo Tejón Rojas con código 201617853 me comprometo a no\n",
        "conversar durante el desarrollo de este examen con ninguna persona que no sea el profesor del curso, sobre\n",
        "aspectos relacionados con el parcial; tampoco utilizaré algún medio de comunicación por voz, texto o\n",
        "intercambio de archivos, para consultar o compartir con otros, información sobre el tema del parcial. Soy\n",
        "consciente y acepto las consecuencias que acarreará para mi desempeño académico cometer fraude en este\n",
        "parcial"
      ],
      "metadata": {
        "id": "5q7WMjJWcJnX"
      }
    },
    {
      "cell_type": "markdown",
      "source": [
        "# Preparación del notebook"
      ],
      "metadata": {
        "id": "J-HjU5EoQf4n"
      }
    },
    {
      "cell_type": "code",
      "source": [
        "!pip install --upgrade pandas-profiling\n"
      ],
      "metadata": {
        "colab": {
          "base_uri": "https://localhost:8080/"
        },
        "id": "TrJV2wDluovj",
        "outputId": "1f271528-150d-4de8-cc68-3cd5e6f7c136"
      },
      "execution_count": 1,
      "outputs": [
        {
          "output_type": "stream",
          "name": "stdout",
          "text": [
            "Looking in indexes: https://pypi.org/simple, https://us-python.pkg.dev/colab-wheels/public/simple/\n",
            "Requirement already satisfied: pandas-profiling in /usr/local/lib/python3.7/dist-packages (3.3.0)\n",
            "Requirement already satisfied: PyYAML<6.1,>=5.0.0 in /usr/local/lib/python3.7/dist-packages (from pandas-profiling) (6.0)\n",
            "Requirement already satisfied: tangled-up-in-unicode==0.2.0 in /usr/local/lib/python3.7/dist-packages (from pandas-profiling) (0.2.0)\n",
            "Requirement already satisfied: pydantic<1.10,>=1.8.1 in /usr/local/lib/python3.7/dist-packages (from pandas-profiling) (1.9.2)\n",
            "Requirement already satisfied: joblib~=1.1.0 in /usr/local/lib/python3.7/dist-packages (from pandas-profiling) (1.1.0)\n",
            "Requirement already satisfied: requests<2.29,>=2.24.0 in /usr/local/lib/python3.7/dist-packages (from pandas-profiling) (2.28.1)\n",
            "Requirement already satisfied: multimethod<1.9,>=1.4 in /usr/local/lib/python3.7/dist-packages (from pandas-profiling) (1.8)\n",
            "Requirement already satisfied: scipy<1.10,>=1.4.1 in /usr/local/lib/python3.7/dist-packages (from pandas-profiling) (1.7.3)\n",
            "Requirement already satisfied: tqdm<4.65,>=4.48.2 in /usr/local/lib/python3.7/dist-packages (from pandas-profiling) (4.64.1)\n",
            "Requirement already satisfied: seaborn<0.12,>=0.10.1 in /usr/local/lib/python3.7/dist-packages (from pandas-profiling) (0.11.2)\n",
            "Requirement already satisfied: pandas!=1.4.0,<1.5,>1.1 in /usr/local/lib/python3.7/dist-packages (from pandas-profiling) (1.3.5)\n",
            "Requirement already satisfied: htmlmin==0.1.12 in /usr/local/lib/python3.7/dist-packages (from pandas-profiling) (0.1.12)\n",
            "Requirement already satisfied: matplotlib<3.6,>=3.2 in /usr/local/lib/python3.7/dist-packages (from pandas-profiling) (3.2.2)\n",
            "Requirement already satisfied: jinja2<3.2,>=2.11.1 in /usr/local/lib/python3.7/dist-packages (from pandas-profiling) (2.11.3)\n",
            "Requirement already satisfied: visions[type_image_path]==0.7.5 in /usr/local/lib/python3.7/dist-packages (from pandas-profiling) (0.7.5)\n",
            "Requirement already satisfied: numpy<1.24,>=1.16.0 in /usr/local/lib/python3.7/dist-packages (from pandas-profiling) (1.21.6)\n",
            "Requirement already satisfied: statsmodels<0.14,>=0.13.2 in /usr/local/lib/python3.7/dist-packages (from pandas-profiling) (0.13.2)\n",
            "Requirement already satisfied: missingno<0.6,>=0.4.2 in /usr/local/lib/python3.7/dist-packages (from pandas-profiling) (0.5.1)\n",
            "Requirement already satisfied: phik<0.13,>=0.11.1 in /usr/local/lib/python3.7/dist-packages (from pandas-profiling) (0.12.2)\n",
            "Requirement already satisfied: attrs>=19.3.0 in /usr/local/lib/python3.7/dist-packages (from visions[type_image_path]==0.7.5->pandas-profiling) (22.1.0)\n",
            "Requirement already satisfied: networkx>=2.4 in /usr/local/lib/python3.7/dist-packages (from visions[type_image_path]==0.7.5->pandas-profiling) (2.6.3)\n",
            "Requirement already satisfied: Pillow in /usr/local/lib/python3.7/dist-packages (from visions[type_image_path]==0.7.5->pandas-profiling) (7.1.2)\n",
            "Requirement already satisfied: imagehash in /usr/local/lib/python3.7/dist-packages (from visions[type_image_path]==0.7.5->pandas-profiling) (4.3.1)\n",
            "Requirement already satisfied: MarkupSafe>=0.23 in /usr/local/lib/python3.7/dist-packages (from jinja2<3.2,>=2.11.1->pandas-profiling) (2.0.1)\n",
            "Requirement already satisfied: cycler>=0.10 in /usr/local/lib/python3.7/dist-packages (from matplotlib<3.6,>=3.2->pandas-profiling) (0.11.0)\n",
            "Requirement already satisfied: python-dateutil>=2.1 in /usr/local/lib/python3.7/dist-packages (from matplotlib<3.6,>=3.2->pandas-profiling) (2.8.2)\n",
            "Requirement already satisfied: pyparsing!=2.0.4,!=2.1.2,!=2.1.6,>=2.0.1 in /usr/local/lib/python3.7/dist-packages (from matplotlib<3.6,>=3.2->pandas-profiling) (3.0.9)\n",
            "Requirement already satisfied: kiwisolver>=1.0.1 in /usr/local/lib/python3.7/dist-packages (from matplotlib<3.6,>=3.2->pandas-profiling) (1.4.4)\n",
            "Requirement already satisfied: typing-extensions in /usr/local/lib/python3.7/dist-packages (from kiwisolver>=1.0.1->matplotlib<3.6,>=3.2->pandas-profiling) (4.1.1)\n",
            "Requirement already satisfied: pytz>=2017.3 in /usr/local/lib/python3.7/dist-packages (from pandas!=1.4.0,<1.5,>1.1->pandas-profiling) (2022.2.1)\n",
            "Requirement already satisfied: six>=1.5 in /usr/local/lib/python3.7/dist-packages (from python-dateutil>=2.1->matplotlib<3.6,>=3.2->pandas-profiling) (1.15.0)\n",
            "Requirement already satisfied: idna<4,>=2.5 in /usr/local/lib/python3.7/dist-packages (from requests<2.29,>=2.24.0->pandas-profiling) (2.10)\n",
            "Requirement already satisfied: urllib3<1.27,>=1.21.1 in /usr/local/lib/python3.7/dist-packages (from requests<2.29,>=2.24.0->pandas-profiling) (1.24.3)\n",
            "Requirement already satisfied: charset-normalizer<3,>=2 in /usr/local/lib/python3.7/dist-packages (from requests<2.29,>=2.24.0->pandas-profiling) (2.1.1)\n",
            "Requirement already satisfied: certifi>=2017.4.17 in /usr/local/lib/python3.7/dist-packages (from requests<2.29,>=2.24.0->pandas-profiling) (2022.6.15)\n",
            "Requirement already satisfied: packaging>=21.3 in /usr/local/lib/python3.7/dist-packages (from statsmodels<0.14,>=0.13.2->pandas-profiling) (21.3)\n",
            "Requirement already satisfied: patsy>=0.5.2 in /usr/local/lib/python3.7/dist-packages (from statsmodels<0.14,>=0.13.2->pandas-profiling) (0.5.2)\n",
            "Requirement already satisfied: PyWavelets in /usr/local/lib/python3.7/dist-packages (from imagehash->visions[type_image_path]==0.7.5->pandas-profiling) (1.3.0)\n"
          ]
        }
      ]
    },
    {
      "cell_type": "code",
      "execution_count": 2,
      "metadata": {
        "id": "QDn89RJazeeO"
      },
      "outputs": [],
      "source": [
        "import numpy as np\n",
        "import pandas as pd\n",
        "\n",
        "from sklearn.model_selection import train_test_split\n",
        "from sklearn.preprocessing import StandardScaler\n",
        "from sklearn.linear_model import LinearRegression, SGDRegressor, ElasticNet\n",
        "from sklearn.metrics import mean_squared_error, mean_absolute_error\n",
        "\n",
        "import matplotlib.pyplot as plt\n",
        "import seaborn as sns\n",
        "\n",
        "from pandas_profiling import ProfileReport\n",
        "\n",
        "from cycler import cycler\n",
        "\n",
        "\n",
        "# Descarga de a DB\n",
        "plt.rcParams['figure.figsize'] = [15, 9]\n",
        "sns.set(style=\"darkgrid\")\n",
        "plt.rcParams['axes.prop_cycle'] = cycler(color='bgrcmyk')"
      ]
    },
    {
      "cell_type": "markdown",
      "metadata": {
        "id": "seYy4DzTzeeQ"
      },
      "source": [
        "# Lectura de Datos"
      ]
    },
    {
      "cell_type": "code",
      "execution_count": 3,
      "metadata": {
        "id": "1-kJ7bxJzeeQ"
      },
      "outputs": [],
      "source": [
        "estate_df = pd.read_csv('https://raw.githubusercontent.com/rctejon/data-science-parcial-1/main/data/losalpes_history.csv', sep = ',')\n",
        "new_estate_df = pd.read_csv('https://raw.githubusercontent.com/rctejon/data-science-parcial-1/main/data/losalpes_new.csv', sep = ',')"
      ]
    },
    {
      "cell_type": "markdown",
      "source": [
        "# Utilidades"
      ],
      "metadata": {
        "id": "Ky3j7uN1RnX_"
      }
    },
    {
      "cell_type": "code",
      "source": [
        "def histogram(attribute, lower, upper, bins, ylim = None, df=estate_df, serie=None):\n",
        "  estate_serie = df[attribute]\n",
        "  if serie is not None:\n",
        "    estate_serie = serie\n",
        "  estate_values = []\n",
        "  for value in estate_serie:\n",
        "    estate_values.append(value)\n",
        "\n",
        "  plt.xlim(lower, upper)\n",
        "  if ylim is not None:\n",
        "     plt.ylim(0, ylim)\n",
        "  sns.histplot(data=estate_values, color=\"skyblue\", label = attribute, kde=True, bins = bins)\n",
        "\n",
        "  plt.legend() \n",
        "  plt.show()"
      ],
      "metadata": {
        "id": "xMHWNabNRmYG"
      },
      "execution_count": 125,
      "outputs": []
    },
    {
      "cell_type": "code",
      "execution_count": 5,
      "metadata": {
        "colab": {
          "base_uri": "https://localhost:8080/"
        },
        "id": "VNP96qF_zeeQ",
        "outputId": "c2d83212-b951-49cf-8ca8-0472647798e4"
      },
      "outputs": [
        {
          "output_type": "execute_result",
          "data": {
            "text/plain": [
              "(102083, 16)"
            ]
          },
          "metadata": {},
          "execution_count": 5
        }
      ],
      "source": [
        "estate_df.shape"
      ]
    },
    {
      "cell_type": "code",
      "source": [
        "new_estate_df.shape"
      ],
      "metadata": {
        "colab": {
          "base_uri": "https://localhost:8080/"
        },
        "id": "s2qAimUthVbB",
        "outputId": "54a45efe-0716-483b-deff-38dbd985e832"
      },
      "execution_count": 6,
      "outputs": [
        {
          "output_type": "execute_result",
          "data": {
            "text/plain": [
              "(513, 14)"
            ]
          },
          "metadata": {},
          "execution_count": 6
        }
      ]
    },
    {
      "cell_type": "code",
      "execution_count": 7,
      "metadata": {
        "colab": {
          "base_uri": "https://localhost:8080/"
        },
        "id": "U-GOQdekzeeR",
        "outputId": "2841446e-aebf-4d1d-ed60-59e8a7c6875d"
      },
      "outputs": [
        {
          "output_type": "execute_result",
          "data": {
            "text/plain": [
              "id                       int64\n",
              "neighbourhood group     object\n",
              "neighbourhood           object\n",
              "lat                    float64\n",
              "long                   float64\n",
              "country                 object\n",
              "instant_bookable        object\n",
              "cancellation_policy     object\n",
              "room type               object\n",
              "construction year      float64\n",
              "price                   object\n",
              "service fee             object\n",
              "minimum nights         float64\n",
              "availability 365       float64\n",
              "number of reviews      float64\n",
              "review rate number     float64\n",
              "dtype: object"
            ]
          },
          "metadata": {},
          "execution_count": 7
        }
      ],
      "source": [
        "estate_df.dtypes"
      ]
    },
    {
      "cell_type": "code",
      "source": [
        "new_estate_df.dtypes"
      ],
      "metadata": {
        "colab": {
          "base_uri": "https://localhost:8080/"
        },
        "id": "K0pVHM8Zh8iN",
        "outputId": "a5a9355e-7e7a-4918-ad4a-41b11351074a"
      },
      "execution_count": 8,
      "outputs": [
        {
          "output_type": "execute_result",
          "data": {
            "text/plain": [
              "id                       int64\n",
              "neighbourhood group     object\n",
              "neighbourhood           object\n",
              "lat                    float64\n",
              "long                   float64\n",
              "country                 object\n",
              "instant_bookable        object\n",
              "cancellation_policy     object\n",
              "room type               object\n",
              "construction year      float64\n",
              "price                   object\n",
              "service fee             object\n",
              "minimum nights         float64\n",
              "availability 365       float64\n",
              "dtype: object"
            ]
          },
          "metadata": {},
          "execution_count": 8
        }
      ]
    },
    {
      "cell_type": "code",
      "source": [
        "estate_df.head(10)"
      ],
      "metadata": {
        "colab": {
          "base_uri": "https://localhost:8080/",
          "height": 615
        },
        "id": "f7dn6MZjwV6G",
        "outputId": "a9a5ee56-babf-4fda-ef3d-29f184708053"
      },
      "execution_count": 9,
      "outputs": [
        {
          "output_type": "execute_result",
          "data": {
            "text/plain": [
              "         id neighbourhood group        neighbourhood       lat      long  \\\n",
              "0  48540006           Manhattan       Hell's Kitchen  40.76212 -73.98820   \n",
              "1  35079903           Manhattan              Midtown  40.74623 -73.98499   \n",
              "2  50681273           Manhattan      Upper West Side  40.78859 -73.97568   \n",
              "3  13039267           Manhattan   Financial District  40.70817 -74.00511   \n",
              "4   8998640           Manhattan      Lower East Side  40.72130 -73.98900   \n",
              "5   1629301           Manhattan       Hell's Kitchen  40.75636 -73.99390   \n",
              "6   2656579           Manhattan    Greenwich Village  40.73236 -73.99920   \n",
              "7   2126371           Manhattan  Morningside Heights  40.80776 -73.96540   \n",
              "8  37291864            Brooklyn        Crown Heights  40.67497 -73.94086   \n",
              "9  11288476           Manhattan      Upper West Side  40.79371 -73.96708   \n",
              "\n",
              "         country instant_bookable cancellation_policy        room type  \\\n",
              "0  United States             True              strict  Entire home/apt   \n",
              "1  United States             True            flexible       Hotel room   \n",
              "2  United States            False            flexible     Private room   \n",
              "3  United States            False              strict     Private room   \n",
              "4  United States             True            moderate  Entire home/apt   \n",
              "5  United States             True              strict  Entire home/apt   \n",
              "6  United States            False              strict  Entire home/apt   \n",
              "7  United States             True            flexible     Private room   \n",
              "8  United States             True            moderate  Entire home/apt   \n",
              "9  United States             True            flexible  Entire home/apt   \n",
              "\n",
              "   construction year  price service fee  minimum nights  availability 365  \\\n",
              "0             2011.0  $ 851       $ 170             4.0             199.0   \n",
              "1             2021.0  $ 466        $ 93             1.0             161.0   \n",
              "2             2004.0  $ 874       $ 175            14.0               0.0   \n",
              "3             2012.0  $ 813       $ 163             1.0               0.0   \n",
              "4             2007.0  $ 326        $ 65             4.0             301.0   \n",
              "5             2022.0  $ 786       $ 157            30.0              38.0   \n",
              "6             2008.0  $ 863       $ 173             5.0             342.0   \n",
              "7             2007.0  $ 749       $ 150             2.0             166.0   \n",
              "8             2004.0  $ 397        $ 79             2.0               0.0   \n",
              "9             2009.0  $ 462        $ 92            30.0             250.0   \n",
              "\n",
              "   number of reviews  review rate number  \n",
              "0              112.0                 1.0  \n",
              "1               13.0                 5.0  \n",
              "2                1.0                 2.0  \n",
              "3                5.0                 3.0  \n",
              "4                9.0                 3.0  \n",
              "5               32.0                 3.0  \n",
              "6               13.0                 5.0  \n",
              "7              233.0                 2.0  \n",
              "8               46.0                 2.0  \n",
              "9                2.0                 1.0  "
            ],
            "text/html": [
              "\n",
              "  <div id=\"df-15bafa32-d2ee-4bc5-aabf-6c887ddeae9a\">\n",
              "    <div class=\"colab-df-container\">\n",
              "      <div>\n",
              "<style scoped>\n",
              "    .dataframe tbody tr th:only-of-type {\n",
              "        vertical-align: middle;\n",
              "    }\n",
              "\n",
              "    .dataframe tbody tr th {\n",
              "        vertical-align: top;\n",
              "    }\n",
              "\n",
              "    .dataframe thead th {\n",
              "        text-align: right;\n",
              "    }\n",
              "</style>\n",
              "<table border=\"1\" class=\"dataframe\">\n",
              "  <thead>\n",
              "    <tr style=\"text-align: right;\">\n",
              "      <th></th>\n",
              "      <th>id</th>\n",
              "      <th>neighbourhood group</th>\n",
              "      <th>neighbourhood</th>\n",
              "      <th>lat</th>\n",
              "      <th>long</th>\n",
              "      <th>country</th>\n",
              "      <th>instant_bookable</th>\n",
              "      <th>cancellation_policy</th>\n",
              "      <th>room type</th>\n",
              "      <th>construction year</th>\n",
              "      <th>price</th>\n",
              "      <th>service fee</th>\n",
              "      <th>minimum nights</th>\n",
              "      <th>availability 365</th>\n",
              "      <th>number of reviews</th>\n",
              "      <th>review rate number</th>\n",
              "    </tr>\n",
              "  </thead>\n",
              "  <tbody>\n",
              "    <tr>\n",
              "      <th>0</th>\n",
              "      <td>48540006</td>\n",
              "      <td>Manhattan</td>\n",
              "      <td>Hell's Kitchen</td>\n",
              "      <td>40.76212</td>\n",
              "      <td>-73.98820</td>\n",
              "      <td>United States</td>\n",
              "      <td>True</td>\n",
              "      <td>strict</td>\n",
              "      <td>Entire home/apt</td>\n",
              "      <td>2011.0</td>\n",
              "      <td>$ 851</td>\n",
              "      <td>$ 170</td>\n",
              "      <td>4.0</td>\n",
              "      <td>199.0</td>\n",
              "      <td>112.0</td>\n",
              "      <td>1.0</td>\n",
              "    </tr>\n",
              "    <tr>\n",
              "      <th>1</th>\n",
              "      <td>35079903</td>\n",
              "      <td>Manhattan</td>\n",
              "      <td>Midtown</td>\n",
              "      <td>40.74623</td>\n",
              "      <td>-73.98499</td>\n",
              "      <td>United States</td>\n",
              "      <td>True</td>\n",
              "      <td>flexible</td>\n",
              "      <td>Hotel room</td>\n",
              "      <td>2021.0</td>\n",
              "      <td>$ 466</td>\n",
              "      <td>$ 93</td>\n",
              "      <td>1.0</td>\n",
              "      <td>161.0</td>\n",
              "      <td>13.0</td>\n",
              "      <td>5.0</td>\n",
              "    </tr>\n",
              "    <tr>\n",
              "      <th>2</th>\n",
              "      <td>50681273</td>\n",
              "      <td>Manhattan</td>\n",
              "      <td>Upper West Side</td>\n",
              "      <td>40.78859</td>\n",
              "      <td>-73.97568</td>\n",
              "      <td>United States</td>\n",
              "      <td>False</td>\n",
              "      <td>flexible</td>\n",
              "      <td>Private room</td>\n",
              "      <td>2004.0</td>\n",
              "      <td>$ 874</td>\n",
              "      <td>$ 175</td>\n",
              "      <td>14.0</td>\n",
              "      <td>0.0</td>\n",
              "      <td>1.0</td>\n",
              "      <td>2.0</td>\n",
              "    </tr>\n",
              "    <tr>\n",
              "      <th>3</th>\n",
              "      <td>13039267</td>\n",
              "      <td>Manhattan</td>\n",
              "      <td>Financial District</td>\n",
              "      <td>40.70817</td>\n",
              "      <td>-74.00511</td>\n",
              "      <td>United States</td>\n",
              "      <td>False</td>\n",
              "      <td>strict</td>\n",
              "      <td>Private room</td>\n",
              "      <td>2012.0</td>\n",
              "      <td>$ 813</td>\n",
              "      <td>$ 163</td>\n",
              "      <td>1.0</td>\n",
              "      <td>0.0</td>\n",
              "      <td>5.0</td>\n",
              "      <td>3.0</td>\n",
              "    </tr>\n",
              "    <tr>\n",
              "      <th>4</th>\n",
              "      <td>8998640</td>\n",
              "      <td>Manhattan</td>\n",
              "      <td>Lower East Side</td>\n",
              "      <td>40.72130</td>\n",
              "      <td>-73.98900</td>\n",
              "      <td>United States</td>\n",
              "      <td>True</td>\n",
              "      <td>moderate</td>\n",
              "      <td>Entire home/apt</td>\n",
              "      <td>2007.0</td>\n",
              "      <td>$ 326</td>\n",
              "      <td>$ 65</td>\n",
              "      <td>4.0</td>\n",
              "      <td>301.0</td>\n",
              "      <td>9.0</td>\n",
              "      <td>3.0</td>\n",
              "    </tr>\n",
              "    <tr>\n",
              "      <th>5</th>\n",
              "      <td>1629301</td>\n",
              "      <td>Manhattan</td>\n",
              "      <td>Hell's Kitchen</td>\n",
              "      <td>40.75636</td>\n",
              "      <td>-73.99390</td>\n",
              "      <td>United States</td>\n",
              "      <td>True</td>\n",
              "      <td>strict</td>\n",
              "      <td>Entire home/apt</td>\n",
              "      <td>2022.0</td>\n",
              "      <td>$ 786</td>\n",
              "      <td>$ 157</td>\n",
              "      <td>30.0</td>\n",
              "      <td>38.0</td>\n",
              "      <td>32.0</td>\n",
              "      <td>3.0</td>\n",
              "    </tr>\n",
              "    <tr>\n",
              "      <th>6</th>\n",
              "      <td>2656579</td>\n",
              "      <td>Manhattan</td>\n",
              "      <td>Greenwich Village</td>\n",
              "      <td>40.73236</td>\n",
              "      <td>-73.99920</td>\n",
              "      <td>United States</td>\n",
              "      <td>False</td>\n",
              "      <td>strict</td>\n",
              "      <td>Entire home/apt</td>\n",
              "      <td>2008.0</td>\n",
              "      <td>$ 863</td>\n",
              "      <td>$ 173</td>\n",
              "      <td>5.0</td>\n",
              "      <td>342.0</td>\n",
              "      <td>13.0</td>\n",
              "      <td>5.0</td>\n",
              "    </tr>\n",
              "    <tr>\n",
              "      <th>7</th>\n",
              "      <td>2126371</td>\n",
              "      <td>Manhattan</td>\n",
              "      <td>Morningside Heights</td>\n",
              "      <td>40.80776</td>\n",
              "      <td>-73.96540</td>\n",
              "      <td>United States</td>\n",
              "      <td>True</td>\n",
              "      <td>flexible</td>\n",
              "      <td>Private room</td>\n",
              "      <td>2007.0</td>\n",
              "      <td>$ 749</td>\n",
              "      <td>$ 150</td>\n",
              "      <td>2.0</td>\n",
              "      <td>166.0</td>\n",
              "      <td>233.0</td>\n",
              "      <td>2.0</td>\n",
              "    </tr>\n",
              "    <tr>\n",
              "      <th>8</th>\n",
              "      <td>37291864</td>\n",
              "      <td>Brooklyn</td>\n",
              "      <td>Crown Heights</td>\n",
              "      <td>40.67497</td>\n",
              "      <td>-73.94086</td>\n",
              "      <td>United States</td>\n",
              "      <td>True</td>\n",
              "      <td>moderate</td>\n",
              "      <td>Entire home/apt</td>\n",
              "      <td>2004.0</td>\n",
              "      <td>$ 397</td>\n",
              "      <td>$ 79</td>\n",
              "      <td>2.0</td>\n",
              "      <td>0.0</td>\n",
              "      <td>46.0</td>\n",
              "      <td>2.0</td>\n",
              "    </tr>\n",
              "    <tr>\n",
              "      <th>9</th>\n",
              "      <td>11288476</td>\n",
              "      <td>Manhattan</td>\n",
              "      <td>Upper West Side</td>\n",
              "      <td>40.79371</td>\n",
              "      <td>-73.96708</td>\n",
              "      <td>United States</td>\n",
              "      <td>True</td>\n",
              "      <td>flexible</td>\n",
              "      <td>Entire home/apt</td>\n",
              "      <td>2009.0</td>\n",
              "      <td>$ 462</td>\n",
              "      <td>$ 92</td>\n",
              "      <td>30.0</td>\n",
              "      <td>250.0</td>\n",
              "      <td>2.0</td>\n",
              "      <td>1.0</td>\n",
              "    </tr>\n",
              "  </tbody>\n",
              "</table>\n",
              "</div>\n",
              "      <button class=\"colab-df-convert\" onclick=\"convertToInteractive('df-15bafa32-d2ee-4bc5-aabf-6c887ddeae9a')\"\n",
              "              title=\"Convert this dataframe to an interactive table.\"\n",
              "              style=\"display:none;\">\n",
              "        \n",
              "  <svg xmlns=\"http://www.w3.org/2000/svg\" height=\"24px\"viewBox=\"0 0 24 24\"\n",
              "       width=\"24px\">\n",
              "    <path d=\"M0 0h24v24H0V0z\" fill=\"none\"/>\n",
              "    <path d=\"M18.56 5.44l.94 2.06.94-2.06 2.06-.94-2.06-.94-.94-2.06-.94 2.06-2.06.94zm-11 1L8.5 8.5l.94-2.06 2.06-.94-2.06-.94L8.5 2.5l-.94 2.06-2.06.94zm10 10l.94 2.06.94-2.06 2.06-.94-2.06-.94-.94-2.06-.94 2.06-2.06.94z\"/><path d=\"M17.41 7.96l-1.37-1.37c-.4-.4-.92-.59-1.43-.59-.52 0-1.04.2-1.43.59L10.3 9.45l-7.72 7.72c-.78.78-.78 2.05 0 2.83L4 21.41c.39.39.9.59 1.41.59.51 0 1.02-.2 1.41-.59l7.78-7.78 2.81-2.81c.8-.78.8-2.07 0-2.86zM5.41 20L4 18.59l7.72-7.72 1.47 1.35L5.41 20z\"/>\n",
              "  </svg>\n",
              "      </button>\n",
              "      \n",
              "  <style>\n",
              "    .colab-df-container {\n",
              "      display:flex;\n",
              "      flex-wrap:wrap;\n",
              "      gap: 12px;\n",
              "    }\n",
              "\n",
              "    .colab-df-convert {\n",
              "      background-color: #E8F0FE;\n",
              "      border: none;\n",
              "      border-radius: 50%;\n",
              "      cursor: pointer;\n",
              "      display: none;\n",
              "      fill: #1967D2;\n",
              "      height: 32px;\n",
              "      padding: 0 0 0 0;\n",
              "      width: 32px;\n",
              "    }\n",
              "\n",
              "    .colab-df-convert:hover {\n",
              "      background-color: #E2EBFA;\n",
              "      box-shadow: 0px 1px 2px rgba(60, 64, 67, 0.3), 0px 1px 3px 1px rgba(60, 64, 67, 0.15);\n",
              "      fill: #174EA6;\n",
              "    }\n",
              "\n",
              "    [theme=dark] .colab-df-convert {\n",
              "      background-color: #3B4455;\n",
              "      fill: #D2E3FC;\n",
              "    }\n",
              "\n",
              "    [theme=dark] .colab-df-convert:hover {\n",
              "      background-color: #434B5C;\n",
              "      box-shadow: 0px 1px 3px 1px rgba(0, 0, 0, 0.15);\n",
              "      filter: drop-shadow(0px 1px 2px rgba(0, 0, 0, 0.3));\n",
              "      fill: #FFFFFF;\n",
              "    }\n",
              "  </style>\n",
              "\n",
              "      <script>\n",
              "        const buttonEl =\n",
              "          document.querySelector('#df-15bafa32-d2ee-4bc5-aabf-6c887ddeae9a button.colab-df-convert');\n",
              "        buttonEl.style.display =\n",
              "          google.colab.kernel.accessAllowed ? 'block' : 'none';\n",
              "\n",
              "        async function convertToInteractive(key) {\n",
              "          const element = document.querySelector('#df-15bafa32-d2ee-4bc5-aabf-6c887ddeae9a');\n",
              "          const dataTable =\n",
              "            await google.colab.kernel.invokeFunction('convertToInteractive',\n",
              "                                                     [key], {});\n",
              "          if (!dataTable) return;\n",
              "\n",
              "          const docLinkHtml = 'Like what you see? Visit the ' +\n",
              "            '<a target=\"_blank\" href=https://colab.research.google.com/notebooks/data_table.ipynb>data table notebook</a>'\n",
              "            + ' to learn more about interactive tables.';\n",
              "          element.innerHTML = '';\n",
              "          dataTable['output_type'] = 'display_data';\n",
              "          await google.colab.output.renderOutput(dataTable, element);\n",
              "          const docLink = document.createElement('div');\n",
              "          docLink.innerHTML = docLinkHtml;\n",
              "          element.appendChild(docLink);\n",
              "        }\n",
              "      </script>\n",
              "    </div>\n",
              "  </div>\n",
              "  "
            ]
          },
          "metadata": {},
          "execution_count": 9
        }
      ]
    },
    {
      "cell_type": "code",
      "source": [
        "new_estate_df.head(10)"
      ],
      "metadata": {
        "colab": {
          "base_uri": "https://localhost:8080/",
          "height": 581
        },
        "id": "OeBIh-mViCt4",
        "outputId": "aaf8913f-54bc-4dcc-837b-36471f886b3b"
      },
      "execution_count": 10,
      "outputs": [
        {
          "output_type": "execute_result",
          "data": {
            "text/plain": [
              "         id neighbourhood group    neighbourhood       lat      long  \\\n",
              "0  27883434              Queens       Ozone Park  40.68432 -73.85862   \n",
              "1  55448727           Manhattan     Civic Center  40.71317 -74.00654   \n",
              "2  56858749              Queens    East Elmhurst  40.76441 -73.88943   \n",
              "3  39029953           Manhattan         Gramercy  40.73442 -73.98383   \n",
              "4   5567200           Manhattan  Upper West Side  40.79660 -73.97154   \n",
              "5  18931756           Manhattan          Chelsea  40.74222 -73.99444   \n",
              "6  19445947            Brooklyn     Williamsburg  40.71640 -73.95438   \n",
              "7  17607892              Queens  Jackson Heights  40.74879 -73.88342   \n",
              "8  46760496           Manhattan          Midtown  40.75287 -73.97352   \n",
              "9   8196700           Manhattan          Midtown  40.74673 -73.98667   \n",
              "\n",
              "         country instant_bookable cancellation_policy        room type  \\\n",
              "0  United States            False            moderate     Private room   \n",
              "1  United States            False            moderate  Entire home/apt   \n",
              "2            NaN             True            flexible     Private room   \n",
              "3  United States             True              strict     Private room   \n",
              "4  United States             True              strict  Entire home/apt   \n",
              "5  United States            False            flexible  Entire home/apt   \n",
              "6  United States             True            moderate  Entire home/apt   \n",
              "7  United States            False            flexible     Private room   \n",
              "8  United States             True            moderate     Private room   \n",
              "9  United States            False              strict     Private room   \n",
              "\n",
              "   construction year   price service fee  minimum nights  availability 365  \n",
              "0             2006.0   $ 519       $ 104             1.0               NaN  \n",
              "1             2006.0   $ 987       $ 197             2.0              42.0  \n",
              "2             2018.0   $ 999       $ 200             2.0               0.0  \n",
              "3             2011.0   $ 497        $ 99             4.0               0.0  \n",
              "4             2022.0   $ 820       $ 164             4.0             376.0  \n",
              "5             2012.0  $ 1,11       $ 221            29.0             220.0  \n",
              "6             2014.0   $ 913       $ 183             7.0               0.0  \n",
              "7             2008.0   $ 238        $ 48             1.0               5.0  \n",
              "8             2006.0   $ 930       $ 186             3.0             357.0  \n",
              "9             2021.0   $ 987       $ 197             1.0              70.0  "
            ],
            "text/html": [
              "\n",
              "  <div id=\"df-0d3ba40f-cafa-4ee9-9778-8ad6bde5efd0\">\n",
              "    <div class=\"colab-df-container\">\n",
              "      <div>\n",
              "<style scoped>\n",
              "    .dataframe tbody tr th:only-of-type {\n",
              "        vertical-align: middle;\n",
              "    }\n",
              "\n",
              "    .dataframe tbody tr th {\n",
              "        vertical-align: top;\n",
              "    }\n",
              "\n",
              "    .dataframe thead th {\n",
              "        text-align: right;\n",
              "    }\n",
              "</style>\n",
              "<table border=\"1\" class=\"dataframe\">\n",
              "  <thead>\n",
              "    <tr style=\"text-align: right;\">\n",
              "      <th></th>\n",
              "      <th>id</th>\n",
              "      <th>neighbourhood group</th>\n",
              "      <th>neighbourhood</th>\n",
              "      <th>lat</th>\n",
              "      <th>long</th>\n",
              "      <th>country</th>\n",
              "      <th>instant_bookable</th>\n",
              "      <th>cancellation_policy</th>\n",
              "      <th>room type</th>\n",
              "      <th>construction year</th>\n",
              "      <th>price</th>\n",
              "      <th>service fee</th>\n",
              "      <th>minimum nights</th>\n",
              "      <th>availability 365</th>\n",
              "    </tr>\n",
              "  </thead>\n",
              "  <tbody>\n",
              "    <tr>\n",
              "      <th>0</th>\n",
              "      <td>27883434</td>\n",
              "      <td>Queens</td>\n",
              "      <td>Ozone Park</td>\n",
              "      <td>40.68432</td>\n",
              "      <td>-73.85862</td>\n",
              "      <td>United States</td>\n",
              "      <td>False</td>\n",
              "      <td>moderate</td>\n",
              "      <td>Private room</td>\n",
              "      <td>2006.0</td>\n",
              "      <td>$ 519</td>\n",
              "      <td>$ 104</td>\n",
              "      <td>1.0</td>\n",
              "      <td>NaN</td>\n",
              "    </tr>\n",
              "    <tr>\n",
              "      <th>1</th>\n",
              "      <td>55448727</td>\n",
              "      <td>Manhattan</td>\n",
              "      <td>Civic Center</td>\n",
              "      <td>40.71317</td>\n",
              "      <td>-74.00654</td>\n",
              "      <td>United States</td>\n",
              "      <td>False</td>\n",
              "      <td>moderate</td>\n",
              "      <td>Entire home/apt</td>\n",
              "      <td>2006.0</td>\n",
              "      <td>$ 987</td>\n",
              "      <td>$ 197</td>\n",
              "      <td>2.0</td>\n",
              "      <td>42.0</td>\n",
              "    </tr>\n",
              "    <tr>\n",
              "      <th>2</th>\n",
              "      <td>56858749</td>\n",
              "      <td>Queens</td>\n",
              "      <td>East Elmhurst</td>\n",
              "      <td>40.76441</td>\n",
              "      <td>-73.88943</td>\n",
              "      <td>NaN</td>\n",
              "      <td>True</td>\n",
              "      <td>flexible</td>\n",
              "      <td>Private room</td>\n",
              "      <td>2018.0</td>\n",
              "      <td>$ 999</td>\n",
              "      <td>$ 200</td>\n",
              "      <td>2.0</td>\n",
              "      <td>0.0</td>\n",
              "    </tr>\n",
              "    <tr>\n",
              "      <th>3</th>\n",
              "      <td>39029953</td>\n",
              "      <td>Manhattan</td>\n",
              "      <td>Gramercy</td>\n",
              "      <td>40.73442</td>\n",
              "      <td>-73.98383</td>\n",
              "      <td>United States</td>\n",
              "      <td>True</td>\n",
              "      <td>strict</td>\n",
              "      <td>Private room</td>\n",
              "      <td>2011.0</td>\n",
              "      <td>$ 497</td>\n",
              "      <td>$ 99</td>\n",
              "      <td>4.0</td>\n",
              "      <td>0.0</td>\n",
              "    </tr>\n",
              "    <tr>\n",
              "      <th>4</th>\n",
              "      <td>5567200</td>\n",
              "      <td>Manhattan</td>\n",
              "      <td>Upper West Side</td>\n",
              "      <td>40.79660</td>\n",
              "      <td>-73.97154</td>\n",
              "      <td>United States</td>\n",
              "      <td>True</td>\n",
              "      <td>strict</td>\n",
              "      <td>Entire home/apt</td>\n",
              "      <td>2022.0</td>\n",
              "      <td>$ 820</td>\n",
              "      <td>$ 164</td>\n",
              "      <td>4.0</td>\n",
              "      <td>376.0</td>\n",
              "    </tr>\n",
              "    <tr>\n",
              "      <th>5</th>\n",
              "      <td>18931756</td>\n",
              "      <td>Manhattan</td>\n",
              "      <td>Chelsea</td>\n",
              "      <td>40.74222</td>\n",
              "      <td>-73.99444</td>\n",
              "      <td>United States</td>\n",
              "      <td>False</td>\n",
              "      <td>flexible</td>\n",
              "      <td>Entire home/apt</td>\n",
              "      <td>2012.0</td>\n",
              "      <td>$ 1,11</td>\n",
              "      <td>$ 221</td>\n",
              "      <td>29.0</td>\n",
              "      <td>220.0</td>\n",
              "    </tr>\n",
              "    <tr>\n",
              "      <th>6</th>\n",
              "      <td>19445947</td>\n",
              "      <td>Brooklyn</td>\n",
              "      <td>Williamsburg</td>\n",
              "      <td>40.71640</td>\n",
              "      <td>-73.95438</td>\n",
              "      <td>United States</td>\n",
              "      <td>True</td>\n",
              "      <td>moderate</td>\n",
              "      <td>Entire home/apt</td>\n",
              "      <td>2014.0</td>\n",
              "      <td>$ 913</td>\n",
              "      <td>$ 183</td>\n",
              "      <td>7.0</td>\n",
              "      <td>0.0</td>\n",
              "    </tr>\n",
              "    <tr>\n",
              "      <th>7</th>\n",
              "      <td>17607892</td>\n",
              "      <td>Queens</td>\n",
              "      <td>Jackson Heights</td>\n",
              "      <td>40.74879</td>\n",
              "      <td>-73.88342</td>\n",
              "      <td>United States</td>\n",
              "      <td>False</td>\n",
              "      <td>flexible</td>\n",
              "      <td>Private room</td>\n",
              "      <td>2008.0</td>\n",
              "      <td>$ 238</td>\n",
              "      <td>$ 48</td>\n",
              "      <td>1.0</td>\n",
              "      <td>5.0</td>\n",
              "    </tr>\n",
              "    <tr>\n",
              "      <th>8</th>\n",
              "      <td>46760496</td>\n",
              "      <td>Manhattan</td>\n",
              "      <td>Midtown</td>\n",
              "      <td>40.75287</td>\n",
              "      <td>-73.97352</td>\n",
              "      <td>United States</td>\n",
              "      <td>True</td>\n",
              "      <td>moderate</td>\n",
              "      <td>Private room</td>\n",
              "      <td>2006.0</td>\n",
              "      <td>$ 930</td>\n",
              "      <td>$ 186</td>\n",
              "      <td>3.0</td>\n",
              "      <td>357.0</td>\n",
              "    </tr>\n",
              "    <tr>\n",
              "      <th>9</th>\n",
              "      <td>8196700</td>\n",
              "      <td>Manhattan</td>\n",
              "      <td>Midtown</td>\n",
              "      <td>40.74673</td>\n",
              "      <td>-73.98667</td>\n",
              "      <td>United States</td>\n",
              "      <td>False</td>\n",
              "      <td>strict</td>\n",
              "      <td>Private room</td>\n",
              "      <td>2021.0</td>\n",
              "      <td>$ 987</td>\n",
              "      <td>$ 197</td>\n",
              "      <td>1.0</td>\n",
              "      <td>70.0</td>\n",
              "    </tr>\n",
              "  </tbody>\n",
              "</table>\n",
              "</div>\n",
              "      <button class=\"colab-df-convert\" onclick=\"convertToInteractive('df-0d3ba40f-cafa-4ee9-9778-8ad6bde5efd0')\"\n",
              "              title=\"Convert this dataframe to an interactive table.\"\n",
              "              style=\"display:none;\">\n",
              "        \n",
              "  <svg xmlns=\"http://www.w3.org/2000/svg\" height=\"24px\"viewBox=\"0 0 24 24\"\n",
              "       width=\"24px\">\n",
              "    <path d=\"M0 0h24v24H0V0z\" fill=\"none\"/>\n",
              "    <path d=\"M18.56 5.44l.94 2.06.94-2.06 2.06-.94-2.06-.94-.94-2.06-.94 2.06-2.06.94zm-11 1L8.5 8.5l.94-2.06 2.06-.94-2.06-.94L8.5 2.5l-.94 2.06-2.06.94zm10 10l.94 2.06.94-2.06 2.06-.94-2.06-.94-.94-2.06-.94 2.06-2.06.94z\"/><path d=\"M17.41 7.96l-1.37-1.37c-.4-.4-.92-.59-1.43-.59-.52 0-1.04.2-1.43.59L10.3 9.45l-7.72 7.72c-.78.78-.78 2.05 0 2.83L4 21.41c.39.39.9.59 1.41.59.51 0 1.02-.2 1.41-.59l7.78-7.78 2.81-2.81c.8-.78.8-2.07 0-2.86zM5.41 20L4 18.59l7.72-7.72 1.47 1.35L5.41 20z\"/>\n",
              "  </svg>\n",
              "      </button>\n",
              "      \n",
              "  <style>\n",
              "    .colab-df-container {\n",
              "      display:flex;\n",
              "      flex-wrap:wrap;\n",
              "      gap: 12px;\n",
              "    }\n",
              "\n",
              "    .colab-df-convert {\n",
              "      background-color: #E8F0FE;\n",
              "      border: none;\n",
              "      border-radius: 50%;\n",
              "      cursor: pointer;\n",
              "      display: none;\n",
              "      fill: #1967D2;\n",
              "      height: 32px;\n",
              "      padding: 0 0 0 0;\n",
              "      width: 32px;\n",
              "    }\n",
              "\n",
              "    .colab-df-convert:hover {\n",
              "      background-color: #E2EBFA;\n",
              "      box-shadow: 0px 1px 2px rgba(60, 64, 67, 0.3), 0px 1px 3px 1px rgba(60, 64, 67, 0.15);\n",
              "      fill: #174EA6;\n",
              "    }\n",
              "\n",
              "    [theme=dark] .colab-df-convert {\n",
              "      background-color: #3B4455;\n",
              "      fill: #D2E3FC;\n",
              "    }\n",
              "\n",
              "    [theme=dark] .colab-df-convert:hover {\n",
              "      background-color: #434B5C;\n",
              "      box-shadow: 0px 1px 3px 1px rgba(0, 0, 0, 0.15);\n",
              "      filter: drop-shadow(0px 1px 2px rgba(0, 0, 0, 0.3));\n",
              "      fill: #FFFFFF;\n",
              "    }\n",
              "  </style>\n",
              "\n",
              "      <script>\n",
              "        const buttonEl =\n",
              "          document.querySelector('#df-0d3ba40f-cafa-4ee9-9778-8ad6bde5efd0 button.colab-df-convert');\n",
              "        buttonEl.style.display =\n",
              "          google.colab.kernel.accessAllowed ? 'block' : 'none';\n",
              "\n",
              "        async function convertToInteractive(key) {\n",
              "          const element = document.querySelector('#df-0d3ba40f-cafa-4ee9-9778-8ad6bde5efd0');\n",
              "          const dataTable =\n",
              "            await google.colab.kernel.invokeFunction('convertToInteractive',\n",
              "                                                     [key], {});\n",
              "          if (!dataTable) return;\n",
              "\n",
              "          const docLinkHtml = 'Like what you see? Visit the ' +\n",
              "            '<a target=\"_blank\" href=https://colab.research.google.com/notebooks/data_table.ipynb>data table notebook</a>'\n",
              "            + ' to learn more about interactive tables.';\n",
              "          element.innerHTML = '';\n",
              "          dataTable['output_type'] = 'display_data';\n",
              "          await google.colab.output.renderOutput(dataTable, element);\n",
              "          const docLink = document.createElement('div');\n",
              "          docLink.innerHTML = docLinkHtml;\n",
              "          element.appendChild(docLink);\n",
              "        }\n",
              "      </script>\n",
              "    </div>\n",
              "  </div>\n",
              "  "
            ]
          },
          "metadata": {},
          "execution_count": 10
        }
      ]
    },
    {
      "cell_type": "markdown",
      "source": [
        "# Limpieza Basica\n",
        "\n",
        "\n",
        "\n",
        "*   Se pasara todo a minuscula para evitar duplicados en las columnas categoricas.\n",
        "*   Se eliminaran espacios al inicio y al final.\n",
        "*   Se eliminara el simbo dolar de las columnas de precios y se convertiran en flotantes.\n",
        "*   Las columnas numericas que solo pueden tener valores enteros se castearan a int.\n",
        "*.  Las columnas con nan de tipo texto se reemplazan conun string vacio y las de tipo numerico con 0.\n"
      ],
      "metadata": {
        "id": "TcrbZsfWPd3r"
      }
    },
    {
      "cell_type": "code",
      "source": [
        "# Para iniciar con la limpieza se pasaron todos las campos de texto a minusculas y se quitaron cualquier espacio que pueda tener\n",
        "estate_df['neighbourhood group'] = estate_df['neighbourhood group'].str.lower()\n",
        "estate_df['neighbourhood group'] = estate_df['neighbourhood group'].str.strip()\n",
        "estate_df['neighbourhood'] = estate_df['neighbourhood'].str.lower()\n",
        "estate_df['neighbourhood'] = estate_df['neighbourhood'].str.strip()\n",
        "estate_df['country'] = estate_df['country'].str.lower()\n",
        "estate_df['country'] = estate_df['country'].str.strip()\n",
        "estate_df['room type'] = estate_df['room type'].str.lower()\n",
        "estate_df['room type'] = estate_df['room type'].str.strip()\n",
        "estate_df['cancellation_policy'] = estate_df['cancellation_policy'].str.lower()\n",
        "\n",
        "new_estate_df['neighbourhood group'] = new_estate_df['neighbourhood group'].str.lower()\n",
        "new_estate_df['neighbourhood group'] = new_estate_df['neighbourhood group'].str.strip()\n",
        "new_estate_df['neighbourhood'] = new_estate_df['neighbourhood'].str.lower()\n",
        "new_estate_df['neighbourhood'] = new_estate_df['neighbourhood'].str.strip()\n",
        "new_estate_df['country'] = new_estate_df['country'].str.lower()\n",
        "new_estate_df['country'] = new_estate_df['country'].str.strip()\n",
        "new_estate_df['room type'] = new_estate_df['room type'].str.lower()\n",
        "new_estate_df['room type'] = new_estate_df['room type'].str.strip()\n",
        "new_estate_df['cancellation_policy'] = new_estate_df['cancellation_policy'].str.lower()\n"
      ],
      "metadata": {
        "id": "skx_zPzNv7qe"
      },
      "execution_count": 11,
      "outputs": []
    },
    {
      "cell_type": "code",
      "source": [
        "estate_df['neighbourhood group'] = estate_df['neighbourhood group'].fillna('')\n",
        "estate_df['neighbourhood'] = estate_df['neighbourhood'].fillna('')\n",
        "estate_df['country'] = estate_df['country'].fillna('')\n",
        "estate_df['room type'] = estate_df['room type'].fillna('')\n",
        "estate_df['cancellation_policy'] = estate_df['cancellation_policy'].fillna('')\n",
        "estate_df['instant_bookable'] = estate_df['instant_bookable'].fillna(0)\n",
        "\n",
        "new_estate_df['neighbourhood group'] = new_estate_df['neighbourhood group'].fillna('')\n",
        "new_estate_df['neighbourhood'] = new_estate_df['neighbourhood'].fillna('')\n",
        "new_estate_df['country'] = new_estate_df['country'].fillna('')\n",
        "new_estate_df['room type'] = new_estate_df['room type'].fillna('')\n",
        "new_estate_df['cancellation_policy'] = new_estate_df['cancellation_policy'].fillna('')\n",
        "new_estate_df['instant_bookable'] = new_estate_df['instant_bookable'].fillna(0)"
      ],
      "metadata": {
        "id": "ZvGA1fBhixFH"
      },
      "execution_count": 12,
      "outputs": []
    },
    {
      "cell_type": "code",
      "source": [
        "# Se convierte las columnas con precios de texto a flotante\n",
        "def money_str_to_float(x):\n",
        "    x = str(x).replace('$', '')\n",
        "    x = x.replace(',', '.') \n",
        "    return float(x.strip())\n",
        "\n",
        "estate_df['price'] = estate_df['price'].apply(money_str_to_float)\n",
        "estate_df['service fee'] = estate_df['service fee'].apply(money_str_to_float)\n",
        "\n",
        "estate_df['price'] = estate_df['price'].fillna(0)\n",
        "estate_df['service fee'] = estate_df['service fee'].fillna(0)\n",
        "\n",
        "new_estate_df['price'] = new_estate_df['price'].apply(money_str_to_float)\n",
        "new_estate_df['service fee'] = new_estate_df['service fee'].apply(money_str_to_float)\n",
        "\n",
        "new_estate_df['price'] = new_estate_df['price'].fillna(0)\n",
        "new_estate_df['service fee'] = new_estate_df['service fee'].fillna(0)"
      ],
      "metadata": {
        "id": "UYuekPkPx6H8"
      },
      "execution_count": 13,
      "outputs": []
    },
    {
      "cell_type": "code",
      "source": [
        "estate_df['construction year'] = estate_df['construction year'].fillna(0)\n",
        "estate_df['construction year'] = estate_df['construction year'].astype(int)\n",
        "\n",
        "estate_df['minimum nights'] = estate_df['minimum nights'].fillna(0)\n",
        "estate_df['minimum nights'] = estate_df['minimum nights'].astype(int)\n",
        "\n",
        "estate_df['availability 365'] = estate_df['availability 365'].fillna(0)\n",
        "estate_df['availability 365'] = estate_df['availability 365'].astype(int)\n",
        "\n",
        "estate_df = estate_df[estate_df['number of reviews'].notna()]\n",
        "\n",
        "new_estate_df['construction year'] = new_estate_df['construction year'].fillna(0)\n",
        "new_estate_df['construction year'] = new_estate_df['construction year'].astype(int)\n",
        "\n",
        "new_estate_df['minimum nights'] = new_estate_df['minimum nights'].fillna(0)\n",
        "new_estate_df['minimum nights'] = new_estate_df['minimum nights'].astype(int)\n",
        "\n",
        "new_estate_df['availability 365'] = new_estate_df['availability 365'].fillna(0)\n",
        "new_estate_df['availability 365'] = new_estate_df['availability 365'].astype(int)"
      ],
      "metadata": {
        "id": "wrqrjCp30c57"
      },
      "execution_count": 14,
      "outputs": []
    },
    {
      "cell_type": "code",
      "execution_count": 15,
      "metadata": {
        "colab": {
          "base_uri": "https://localhost:8080/",
          "height": 615
        },
        "id": "VuLfSzP2zeeS",
        "outputId": "8996b42f-69f9-41ab-f6d1-a87fb8715bed"
      },
      "outputs": [
        {
          "output_type": "execute_result",
          "data": {
            "text/plain": [
              "         id neighbourhood group        neighbourhood       lat      long  \\\n",
              "0  48540006           manhattan       hell's kitchen  40.76212 -73.98820   \n",
              "1  35079903           manhattan              midtown  40.74623 -73.98499   \n",
              "2  50681273           manhattan      upper west side  40.78859 -73.97568   \n",
              "3  13039267           manhattan   financial district  40.70817 -74.00511   \n",
              "4   8998640           manhattan      lower east side  40.72130 -73.98900   \n",
              "5   1629301           manhattan       hell's kitchen  40.75636 -73.99390   \n",
              "6   2656579           manhattan    greenwich village  40.73236 -73.99920   \n",
              "7   2126371           manhattan  morningside heights  40.80776 -73.96540   \n",
              "8  37291864            brooklyn        crown heights  40.67497 -73.94086   \n",
              "9  11288476           manhattan      upper west side  40.79371 -73.96708   \n",
              "\n",
              "         country instant_bookable cancellation_policy        room type  \\\n",
              "0  united states             True              strict  entire home/apt   \n",
              "1  united states             True            flexible       hotel room   \n",
              "2  united states            False            flexible     private room   \n",
              "3  united states            False              strict     private room   \n",
              "4  united states             True            moderate  entire home/apt   \n",
              "5  united states             True              strict  entire home/apt   \n",
              "6  united states            False              strict  entire home/apt   \n",
              "7  united states             True            flexible     private room   \n",
              "8  united states             True            moderate  entire home/apt   \n",
              "9  united states             True            flexible  entire home/apt   \n",
              "\n",
              "   construction year  price  service fee  minimum nights  availability 365  \\\n",
              "0               2011  851.0        170.0               4               199   \n",
              "1               2021  466.0         93.0               1               161   \n",
              "2               2004  874.0        175.0              14                 0   \n",
              "3               2012  813.0        163.0               1                 0   \n",
              "4               2007  326.0         65.0               4               301   \n",
              "5               2022  786.0        157.0              30                38   \n",
              "6               2008  863.0        173.0               5               342   \n",
              "7               2007  749.0        150.0               2               166   \n",
              "8               2004  397.0         79.0               2                 0   \n",
              "9               2009  462.0         92.0              30               250   \n",
              "\n",
              "   number of reviews  review rate number  \n",
              "0              112.0                 1.0  \n",
              "1               13.0                 5.0  \n",
              "2                1.0                 2.0  \n",
              "3                5.0                 3.0  \n",
              "4                9.0                 3.0  \n",
              "5               32.0                 3.0  \n",
              "6               13.0                 5.0  \n",
              "7              233.0                 2.0  \n",
              "8               46.0                 2.0  \n",
              "9                2.0                 1.0  "
            ],
            "text/html": [
              "\n",
              "  <div id=\"df-091e4b06-b443-4473-b688-4c16e79167e2\">\n",
              "    <div class=\"colab-df-container\">\n",
              "      <div>\n",
              "<style scoped>\n",
              "    .dataframe tbody tr th:only-of-type {\n",
              "        vertical-align: middle;\n",
              "    }\n",
              "\n",
              "    .dataframe tbody tr th {\n",
              "        vertical-align: top;\n",
              "    }\n",
              "\n",
              "    .dataframe thead th {\n",
              "        text-align: right;\n",
              "    }\n",
              "</style>\n",
              "<table border=\"1\" class=\"dataframe\">\n",
              "  <thead>\n",
              "    <tr style=\"text-align: right;\">\n",
              "      <th></th>\n",
              "      <th>id</th>\n",
              "      <th>neighbourhood group</th>\n",
              "      <th>neighbourhood</th>\n",
              "      <th>lat</th>\n",
              "      <th>long</th>\n",
              "      <th>country</th>\n",
              "      <th>instant_bookable</th>\n",
              "      <th>cancellation_policy</th>\n",
              "      <th>room type</th>\n",
              "      <th>construction year</th>\n",
              "      <th>price</th>\n",
              "      <th>service fee</th>\n",
              "      <th>minimum nights</th>\n",
              "      <th>availability 365</th>\n",
              "      <th>number of reviews</th>\n",
              "      <th>review rate number</th>\n",
              "    </tr>\n",
              "  </thead>\n",
              "  <tbody>\n",
              "    <tr>\n",
              "      <th>0</th>\n",
              "      <td>48540006</td>\n",
              "      <td>manhattan</td>\n",
              "      <td>hell's kitchen</td>\n",
              "      <td>40.76212</td>\n",
              "      <td>-73.98820</td>\n",
              "      <td>united states</td>\n",
              "      <td>True</td>\n",
              "      <td>strict</td>\n",
              "      <td>entire home/apt</td>\n",
              "      <td>2011</td>\n",
              "      <td>851.0</td>\n",
              "      <td>170.0</td>\n",
              "      <td>4</td>\n",
              "      <td>199</td>\n",
              "      <td>112.0</td>\n",
              "      <td>1.0</td>\n",
              "    </tr>\n",
              "    <tr>\n",
              "      <th>1</th>\n",
              "      <td>35079903</td>\n",
              "      <td>manhattan</td>\n",
              "      <td>midtown</td>\n",
              "      <td>40.74623</td>\n",
              "      <td>-73.98499</td>\n",
              "      <td>united states</td>\n",
              "      <td>True</td>\n",
              "      <td>flexible</td>\n",
              "      <td>hotel room</td>\n",
              "      <td>2021</td>\n",
              "      <td>466.0</td>\n",
              "      <td>93.0</td>\n",
              "      <td>1</td>\n",
              "      <td>161</td>\n",
              "      <td>13.0</td>\n",
              "      <td>5.0</td>\n",
              "    </tr>\n",
              "    <tr>\n",
              "      <th>2</th>\n",
              "      <td>50681273</td>\n",
              "      <td>manhattan</td>\n",
              "      <td>upper west side</td>\n",
              "      <td>40.78859</td>\n",
              "      <td>-73.97568</td>\n",
              "      <td>united states</td>\n",
              "      <td>False</td>\n",
              "      <td>flexible</td>\n",
              "      <td>private room</td>\n",
              "      <td>2004</td>\n",
              "      <td>874.0</td>\n",
              "      <td>175.0</td>\n",
              "      <td>14</td>\n",
              "      <td>0</td>\n",
              "      <td>1.0</td>\n",
              "      <td>2.0</td>\n",
              "    </tr>\n",
              "    <tr>\n",
              "      <th>3</th>\n",
              "      <td>13039267</td>\n",
              "      <td>manhattan</td>\n",
              "      <td>financial district</td>\n",
              "      <td>40.70817</td>\n",
              "      <td>-74.00511</td>\n",
              "      <td>united states</td>\n",
              "      <td>False</td>\n",
              "      <td>strict</td>\n",
              "      <td>private room</td>\n",
              "      <td>2012</td>\n",
              "      <td>813.0</td>\n",
              "      <td>163.0</td>\n",
              "      <td>1</td>\n",
              "      <td>0</td>\n",
              "      <td>5.0</td>\n",
              "      <td>3.0</td>\n",
              "    </tr>\n",
              "    <tr>\n",
              "      <th>4</th>\n",
              "      <td>8998640</td>\n",
              "      <td>manhattan</td>\n",
              "      <td>lower east side</td>\n",
              "      <td>40.72130</td>\n",
              "      <td>-73.98900</td>\n",
              "      <td>united states</td>\n",
              "      <td>True</td>\n",
              "      <td>moderate</td>\n",
              "      <td>entire home/apt</td>\n",
              "      <td>2007</td>\n",
              "      <td>326.0</td>\n",
              "      <td>65.0</td>\n",
              "      <td>4</td>\n",
              "      <td>301</td>\n",
              "      <td>9.0</td>\n",
              "      <td>3.0</td>\n",
              "    </tr>\n",
              "    <tr>\n",
              "      <th>5</th>\n",
              "      <td>1629301</td>\n",
              "      <td>manhattan</td>\n",
              "      <td>hell's kitchen</td>\n",
              "      <td>40.75636</td>\n",
              "      <td>-73.99390</td>\n",
              "      <td>united states</td>\n",
              "      <td>True</td>\n",
              "      <td>strict</td>\n",
              "      <td>entire home/apt</td>\n",
              "      <td>2022</td>\n",
              "      <td>786.0</td>\n",
              "      <td>157.0</td>\n",
              "      <td>30</td>\n",
              "      <td>38</td>\n",
              "      <td>32.0</td>\n",
              "      <td>3.0</td>\n",
              "    </tr>\n",
              "    <tr>\n",
              "      <th>6</th>\n",
              "      <td>2656579</td>\n",
              "      <td>manhattan</td>\n",
              "      <td>greenwich village</td>\n",
              "      <td>40.73236</td>\n",
              "      <td>-73.99920</td>\n",
              "      <td>united states</td>\n",
              "      <td>False</td>\n",
              "      <td>strict</td>\n",
              "      <td>entire home/apt</td>\n",
              "      <td>2008</td>\n",
              "      <td>863.0</td>\n",
              "      <td>173.0</td>\n",
              "      <td>5</td>\n",
              "      <td>342</td>\n",
              "      <td>13.0</td>\n",
              "      <td>5.0</td>\n",
              "    </tr>\n",
              "    <tr>\n",
              "      <th>7</th>\n",
              "      <td>2126371</td>\n",
              "      <td>manhattan</td>\n",
              "      <td>morningside heights</td>\n",
              "      <td>40.80776</td>\n",
              "      <td>-73.96540</td>\n",
              "      <td>united states</td>\n",
              "      <td>True</td>\n",
              "      <td>flexible</td>\n",
              "      <td>private room</td>\n",
              "      <td>2007</td>\n",
              "      <td>749.0</td>\n",
              "      <td>150.0</td>\n",
              "      <td>2</td>\n",
              "      <td>166</td>\n",
              "      <td>233.0</td>\n",
              "      <td>2.0</td>\n",
              "    </tr>\n",
              "    <tr>\n",
              "      <th>8</th>\n",
              "      <td>37291864</td>\n",
              "      <td>brooklyn</td>\n",
              "      <td>crown heights</td>\n",
              "      <td>40.67497</td>\n",
              "      <td>-73.94086</td>\n",
              "      <td>united states</td>\n",
              "      <td>True</td>\n",
              "      <td>moderate</td>\n",
              "      <td>entire home/apt</td>\n",
              "      <td>2004</td>\n",
              "      <td>397.0</td>\n",
              "      <td>79.0</td>\n",
              "      <td>2</td>\n",
              "      <td>0</td>\n",
              "      <td>46.0</td>\n",
              "      <td>2.0</td>\n",
              "    </tr>\n",
              "    <tr>\n",
              "      <th>9</th>\n",
              "      <td>11288476</td>\n",
              "      <td>manhattan</td>\n",
              "      <td>upper west side</td>\n",
              "      <td>40.79371</td>\n",
              "      <td>-73.96708</td>\n",
              "      <td>united states</td>\n",
              "      <td>True</td>\n",
              "      <td>flexible</td>\n",
              "      <td>entire home/apt</td>\n",
              "      <td>2009</td>\n",
              "      <td>462.0</td>\n",
              "      <td>92.0</td>\n",
              "      <td>30</td>\n",
              "      <td>250</td>\n",
              "      <td>2.0</td>\n",
              "      <td>1.0</td>\n",
              "    </tr>\n",
              "  </tbody>\n",
              "</table>\n",
              "</div>\n",
              "      <button class=\"colab-df-convert\" onclick=\"convertToInteractive('df-091e4b06-b443-4473-b688-4c16e79167e2')\"\n",
              "              title=\"Convert this dataframe to an interactive table.\"\n",
              "              style=\"display:none;\">\n",
              "        \n",
              "  <svg xmlns=\"http://www.w3.org/2000/svg\" height=\"24px\"viewBox=\"0 0 24 24\"\n",
              "       width=\"24px\">\n",
              "    <path d=\"M0 0h24v24H0V0z\" fill=\"none\"/>\n",
              "    <path d=\"M18.56 5.44l.94 2.06.94-2.06 2.06-.94-2.06-.94-.94-2.06-.94 2.06-2.06.94zm-11 1L8.5 8.5l.94-2.06 2.06-.94-2.06-.94L8.5 2.5l-.94 2.06-2.06.94zm10 10l.94 2.06.94-2.06 2.06-.94-2.06-.94-.94-2.06-.94 2.06-2.06.94z\"/><path d=\"M17.41 7.96l-1.37-1.37c-.4-.4-.92-.59-1.43-.59-.52 0-1.04.2-1.43.59L10.3 9.45l-7.72 7.72c-.78.78-.78 2.05 0 2.83L4 21.41c.39.39.9.59 1.41.59.51 0 1.02-.2 1.41-.59l7.78-7.78 2.81-2.81c.8-.78.8-2.07 0-2.86zM5.41 20L4 18.59l7.72-7.72 1.47 1.35L5.41 20z\"/>\n",
              "  </svg>\n",
              "      </button>\n",
              "      \n",
              "  <style>\n",
              "    .colab-df-container {\n",
              "      display:flex;\n",
              "      flex-wrap:wrap;\n",
              "      gap: 12px;\n",
              "    }\n",
              "\n",
              "    .colab-df-convert {\n",
              "      background-color: #E8F0FE;\n",
              "      border: none;\n",
              "      border-radius: 50%;\n",
              "      cursor: pointer;\n",
              "      display: none;\n",
              "      fill: #1967D2;\n",
              "      height: 32px;\n",
              "      padding: 0 0 0 0;\n",
              "      width: 32px;\n",
              "    }\n",
              "\n",
              "    .colab-df-convert:hover {\n",
              "      background-color: #E2EBFA;\n",
              "      box-shadow: 0px 1px 2px rgba(60, 64, 67, 0.3), 0px 1px 3px 1px rgba(60, 64, 67, 0.15);\n",
              "      fill: #174EA6;\n",
              "    }\n",
              "\n",
              "    [theme=dark] .colab-df-convert {\n",
              "      background-color: #3B4455;\n",
              "      fill: #D2E3FC;\n",
              "    }\n",
              "\n",
              "    [theme=dark] .colab-df-convert:hover {\n",
              "      background-color: #434B5C;\n",
              "      box-shadow: 0px 1px 3px 1px rgba(0, 0, 0, 0.15);\n",
              "      filter: drop-shadow(0px 1px 2px rgba(0, 0, 0, 0.3));\n",
              "      fill: #FFFFFF;\n",
              "    }\n",
              "  </style>\n",
              "\n",
              "      <script>\n",
              "        const buttonEl =\n",
              "          document.querySelector('#df-091e4b06-b443-4473-b688-4c16e79167e2 button.colab-df-convert');\n",
              "        buttonEl.style.display =\n",
              "          google.colab.kernel.accessAllowed ? 'block' : 'none';\n",
              "\n",
              "        async function convertToInteractive(key) {\n",
              "          const element = document.querySelector('#df-091e4b06-b443-4473-b688-4c16e79167e2');\n",
              "          const dataTable =\n",
              "            await google.colab.kernel.invokeFunction('convertToInteractive',\n",
              "                                                     [key], {});\n",
              "          if (!dataTable) return;\n",
              "\n",
              "          const docLinkHtml = 'Like what you see? Visit the ' +\n",
              "            '<a target=\"_blank\" href=https://colab.research.google.com/notebooks/data_table.ipynb>data table notebook</a>'\n",
              "            + ' to learn more about interactive tables.';\n",
              "          element.innerHTML = '';\n",
              "          dataTable['output_type'] = 'display_data';\n",
              "          await google.colab.output.renderOutput(dataTable, element);\n",
              "          const docLink = document.createElement('div');\n",
              "          docLink.innerHTML = docLinkHtml;\n",
              "          element.appendChild(docLink);\n",
              "        }\n",
              "      </script>\n",
              "    </div>\n",
              "  </div>\n",
              "  "
            ]
          },
          "metadata": {},
          "execution_count": 15
        }
      ],
      "source": [
        "estate_df.head(10)"
      ]
    },
    {
      "cell_type": "code",
      "source": [
        "new_estate_df.head(10)"
      ],
      "metadata": {
        "colab": {
          "base_uri": "https://localhost:8080/",
          "height": 581
        },
        "id": "Svqi3LyGikot",
        "outputId": "8e11f671-1596-4647-ec06-ba33a94fc84c"
      },
      "execution_count": 16,
      "outputs": [
        {
          "output_type": "execute_result",
          "data": {
            "text/plain": [
              "         id neighbourhood group    neighbourhood       lat      long  \\\n",
              "0  27883434              queens       ozone park  40.68432 -73.85862   \n",
              "1  55448727           manhattan     civic center  40.71317 -74.00654   \n",
              "2  56858749              queens    east elmhurst  40.76441 -73.88943   \n",
              "3  39029953           manhattan         gramercy  40.73442 -73.98383   \n",
              "4   5567200           manhattan  upper west side  40.79660 -73.97154   \n",
              "5  18931756           manhattan          chelsea  40.74222 -73.99444   \n",
              "6  19445947            brooklyn     williamsburg  40.71640 -73.95438   \n",
              "7  17607892              queens  jackson heights  40.74879 -73.88342   \n",
              "8  46760496           manhattan          midtown  40.75287 -73.97352   \n",
              "9   8196700           manhattan          midtown  40.74673 -73.98667   \n",
              "\n",
              "         country instant_bookable cancellation_policy        room type  \\\n",
              "0  united states            False            moderate     private room   \n",
              "1  united states            False            moderate  entire home/apt   \n",
              "2                            True            flexible     private room   \n",
              "3  united states             True              strict     private room   \n",
              "4  united states             True              strict  entire home/apt   \n",
              "5  united states            False            flexible  entire home/apt   \n",
              "6  united states             True            moderate  entire home/apt   \n",
              "7  united states            False            flexible     private room   \n",
              "8  united states             True            moderate     private room   \n",
              "9  united states            False              strict     private room   \n",
              "\n",
              "   construction year   price  service fee  minimum nights  availability 365  \n",
              "0               2006  519.00        104.0               1                 0  \n",
              "1               2006  987.00        197.0               2                42  \n",
              "2               2018  999.00        200.0               2                 0  \n",
              "3               2011  497.00         99.0               4                 0  \n",
              "4               2022  820.00        164.0               4               376  \n",
              "5               2012    1.11        221.0              29               220  \n",
              "6               2014  913.00        183.0               7                 0  \n",
              "7               2008  238.00         48.0               1                 5  \n",
              "8               2006  930.00        186.0               3               357  \n",
              "9               2021  987.00        197.0               1                70  "
            ],
            "text/html": [
              "\n",
              "  <div id=\"df-85b9ec75-cc5e-4722-81aa-da4c6fed1ae1\">\n",
              "    <div class=\"colab-df-container\">\n",
              "      <div>\n",
              "<style scoped>\n",
              "    .dataframe tbody tr th:only-of-type {\n",
              "        vertical-align: middle;\n",
              "    }\n",
              "\n",
              "    .dataframe tbody tr th {\n",
              "        vertical-align: top;\n",
              "    }\n",
              "\n",
              "    .dataframe thead th {\n",
              "        text-align: right;\n",
              "    }\n",
              "</style>\n",
              "<table border=\"1\" class=\"dataframe\">\n",
              "  <thead>\n",
              "    <tr style=\"text-align: right;\">\n",
              "      <th></th>\n",
              "      <th>id</th>\n",
              "      <th>neighbourhood group</th>\n",
              "      <th>neighbourhood</th>\n",
              "      <th>lat</th>\n",
              "      <th>long</th>\n",
              "      <th>country</th>\n",
              "      <th>instant_bookable</th>\n",
              "      <th>cancellation_policy</th>\n",
              "      <th>room type</th>\n",
              "      <th>construction year</th>\n",
              "      <th>price</th>\n",
              "      <th>service fee</th>\n",
              "      <th>minimum nights</th>\n",
              "      <th>availability 365</th>\n",
              "    </tr>\n",
              "  </thead>\n",
              "  <tbody>\n",
              "    <tr>\n",
              "      <th>0</th>\n",
              "      <td>27883434</td>\n",
              "      <td>queens</td>\n",
              "      <td>ozone park</td>\n",
              "      <td>40.68432</td>\n",
              "      <td>-73.85862</td>\n",
              "      <td>united states</td>\n",
              "      <td>False</td>\n",
              "      <td>moderate</td>\n",
              "      <td>private room</td>\n",
              "      <td>2006</td>\n",
              "      <td>519.00</td>\n",
              "      <td>104.0</td>\n",
              "      <td>1</td>\n",
              "      <td>0</td>\n",
              "    </tr>\n",
              "    <tr>\n",
              "      <th>1</th>\n",
              "      <td>55448727</td>\n",
              "      <td>manhattan</td>\n",
              "      <td>civic center</td>\n",
              "      <td>40.71317</td>\n",
              "      <td>-74.00654</td>\n",
              "      <td>united states</td>\n",
              "      <td>False</td>\n",
              "      <td>moderate</td>\n",
              "      <td>entire home/apt</td>\n",
              "      <td>2006</td>\n",
              "      <td>987.00</td>\n",
              "      <td>197.0</td>\n",
              "      <td>2</td>\n",
              "      <td>42</td>\n",
              "    </tr>\n",
              "    <tr>\n",
              "      <th>2</th>\n",
              "      <td>56858749</td>\n",
              "      <td>queens</td>\n",
              "      <td>east elmhurst</td>\n",
              "      <td>40.76441</td>\n",
              "      <td>-73.88943</td>\n",
              "      <td></td>\n",
              "      <td>True</td>\n",
              "      <td>flexible</td>\n",
              "      <td>private room</td>\n",
              "      <td>2018</td>\n",
              "      <td>999.00</td>\n",
              "      <td>200.0</td>\n",
              "      <td>2</td>\n",
              "      <td>0</td>\n",
              "    </tr>\n",
              "    <tr>\n",
              "      <th>3</th>\n",
              "      <td>39029953</td>\n",
              "      <td>manhattan</td>\n",
              "      <td>gramercy</td>\n",
              "      <td>40.73442</td>\n",
              "      <td>-73.98383</td>\n",
              "      <td>united states</td>\n",
              "      <td>True</td>\n",
              "      <td>strict</td>\n",
              "      <td>private room</td>\n",
              "      <td>2011</td>\n",
              "      <td>497.00</td>\n",
              "      <td>99.0</td>\n",
              "      <td>4</td>\n",
              "      <td>0</td>\n",
              "    </tr>\n",
              "    <tr>\n",
              "      <th>4</th>\n",
              "      <td>5567200</td>\n",
              "      <td>manhattan</td>\n",
              "      <td>upper west side</td>\n",
              "      <td>40.79660</td>\n",
              "      <td>-73.97154</td>\n",
              "      <td>united states</td>\n",
              "      <td>True</td>\n",
              "      <td>strict</td>\n",
              "      <td>entire home/apt</td>\n",
              "      <td>2022</td>\n",
              "      <td>820.00</td>\n",
              "      <td>164.0</td>\n",
              "      <td>4</td>\n",
              "      <td>376</td>\n",
              "    </tr>\n",
              "    <tr>\n",
              "      <th>5</th>\n",
              "      <td>18931756</td>\n",
              "      <td>manhattan</td>\n",
              "      <td>chelsea</td>\n",
              "      <td>40.74222</td>\n",
              "      <td>-73.99444</td>\n",
              "      <td>united states</td>\n",
              "      <td>False</td>\n",
              "      <td>flexible</td>\n",
              "      <td>entire home/apt</td>\n",
              "      <td>2012</td>\n",
              "      <td>1.11</td>\n",
              "      <td>221.0</td>\n",
              "      <td>29</td>\n",
              "      <td>220</td>\n",
              "    </tr>\n",
              "    <tr>\n",
              "      <th>6</th>\n",
              "      <td>19445947</td>\n",
              "      <td>brooklyn</td>\n",
              "      <td>williamsburg</td>\n",
              "      <td>40.71640</td>\n",
              "      <td>-73.95438</td>\n",
              "      <td>united states</td>\n",
              "      <td>True</td>\n",
              "      <td>moderate</td>\n",
              "      <td>entire home/apt</td>\n",
              "      <td>2014</td>\n",
              "      <td>913.00</td>\n",
              "      <td>183.0</td>\n",
              "      <td>7</td>\n",
              "      <td>0</td>\n",
              "    </tr>\n",
              "    <tr>\n",
              "      <th>7</th>\n",
              "      <td>17607892</td>\n",
              "      <td>queens</td>\n",
              "      <td>jackson heights</td>\n",
              "      <td>40.74879</td>\n",
              "      <td>-73.88342</td>\n",
              "      <td>united states</td>\n",
              "      <td>False</td>\n",
              "      <td>flexible</td>\n",
              "      <td>private room</td>\n",
              "      <td>2008</td>\n",
              "      <td>238.00</td>\n",
              "      <td>48.0</td>\n",
              "      <td>1</td>\n",
              "      <td>5</td>\n",
              "    </tr>\n",
              "    <tr>\n",
              "      <th>8</th>\n",
              "      <td>46760496</td>\n",
              "      <td>manhattan</td>\n",
              "      <td>midtown</td>\n",
              "      <td>40.75287</td>\n",
              "      <td>-73.97352</td>\n",
              "      <td>united states</td>\n",
              "      <td>True</td>\n",
              "      <td>moderate</td>\n",
              "      <td>private room</td>\n",
              "      <td>2006</td>\n",
              "      <td>930.00</td>\n",
              "      <td>186.0</td>\n",
              "      <td>3</td>\n",
              "      <td>357</td>\n",
              "    </tr>\n",
              "    <tr>\n",
              "      <th>9</th>\n",
              "      <td>8196700</td>\n",
              "      <td>manhattan</td>\n",
              "      <td>midtown</td>\n",
              "      <td>40.74673</td>\n",
              "      <td>-73.98667</td>\n",
              "      <td>united states</td>\n",
              "      <td>False</td>\n",
              "      <td>strict</td>\n",
              "      <td>private room</td>\n",
              "      <td>2021</td>\n",
              "      <td>987.00</td>\n",
              "      <td>197.0</td>\n",
              "      <td>1</td>\n",
              "      <td>70</td>\n",
              "    </tr>\n",
              "  </tbody>\n",
              "</table>\n",
              "</div>\n",
              "      <button class=\"colab-df-convert\" onclick=\"convertToInteractive('df-85b9ec75-cc5e-4722-81aa-da4c6fed1ae1')\"\n",
              "              title=\"Convert this dataframe to an interactive table.\"\n",
              "              style=\"display:none;\">\n",
              "        \n",
              "  <svg xmlns=\"http://www.w3.org/2000/svg\" height=\"24px\"viewBox=\"0 0 24 24\"\n",
              "       width=\"24px\">\n",
              "    <path d=\"M0 0h24v24H0V0z\" fill=\"none\"/>\n",
              "    <path d=\"M18.56 5.44l.94 2.06.94-2.06 2.06-.94-2.06-.94-.94-2.06-.94 2.06-2.06.94zm-11 1L8.5 8.5l.94-2.06 2.06-.94-2.06-.94L8.5 2.5l-.94 2.06-2.06.94zm10 10l.94 2.06.94-2.06 2.06-.94-2.06-.94-.94-2.06-.94 2.06-2.06.94z\"/><path d=\"M17.41 7.96l-1.37-1.37c-.4-.4-.92-.59-1.43-.59-.52 0-1.04.2-1.43.59L10.3 9.45l-7.72 7.72c-.78.78-.78 2.05 0 2.83L4 21.41c.39.39.9.59 1.41.59.51 0 1.02-.2 1.41-.59l7.78-7.78 2.81-2.81c.8-.78.8-2.07 0-2.86zM5.41 20L4 18.59l7.72-7.72 1.47 1.35L5.41 20z\"/>\n",
              "  </svg>\n",
              "      </button>\n",
              "      \n",
              "  <style>\n",
              "    .colab-df-container {\n",
              "      display:flex;\n",
              "      flex-wrap:wrap;\n",
              "      gap: 12px;\n",
              "    }\n",
              "\n",
              "    .colab-df-convert {\n",
              "      background-color: #E8F0FE;\n",
              "      border: none;\n",
              "      border-radius: 50%;\n",
              "      cursor: pointer;\n",
              "      display: none;\n",
              "      fill: #1967D2;\n",
              "      height: 32px;\n",
              "      padding: 0 0 0 0;\n",
              "      width: 32px;\n",
              "    }\n",
              "\n",
              "    .colab-df-convert:hover {\n",
              "      background-color: #E2EBFA;\n",
              "      box-shadow: 0px 1px 2px rgba(60, 64, 67, 0.3), 0px 1px 3px 1px rgba(60, 64, 67, 0.15);\n",
              "      fill: #174EA6;\n",
              "    }\n",
              "\n",
              "    [theme=dark] .colab-df-convert {\n",
              "      background-color: #3B4455;\n",
              "      fill: #D2E3FC;\n",
              "    }\n",
              "\n",
              "    [theme=dark] .colab-df-convert:hover {\n",
              "      background-color: #434B5C;\n",
              "      box-shadow: 0px 1px 3px 1px rgba(0, 0, 0, 0.15);\n",
              "      filter: drop-shadow(0px 1px 2px rgba(0, 0, 0, 0.3));\n",
              "      fill: #FFFFFF;\n",
              "    }\n",
              "  </style>\n",
              "\n",
              "      <script>\n",
              "        const buttonEl =\n",
              "          document.querySelector('#df-85b9ec75-cc5e-4722-81aa-da4c6fed1ae1 button.colab-df-convert');\n",
              "        buttonEl.style.display =\n",
              "          google.colab.kernel.accessAllowed ? 'block' : 'none';\n",
              "\n",
              "        async function convertToInteractive(key) {\n",
              "          const element = document.querySelector('#df-85b9ec75-cc5e-4722-81aa-da4c6fed1ae1');\n",
              "          const dataTable =\n",
              "            await google.colab.kernel.invokeFunction('convertToInteractive',\n",
              "                                                     [key], {});\n",
              "          if (!dataTable) return;\n",
              "\n",
              "          const docLinkHtml = 'Like what you see? Visit the ' +\n",
              "            '<a target=\"_blank\" href=https://colab.research.google.com/notebooks/data_table.ipynb>data table notebook</a>'\n",
              "            + ' to learn more about interactive tables.';\n",
              "          element.innerHTML = '';\n",
              "          dataTable['output_type'] = 'display_data';\n",
              "          await google.colab.output.renderOutput(dataTable, element);\n",
              "          const docLink = document.createElement('div');\n",
              "          docLink.innerHTML = docLinkHtml;\n",
              "          element.appendChild(docLink);\n",
              "        }\n",
              "      </script>\n",
              "    </div>\n",
              "  </div>\n",
              "  "
            ]
          },
          "metadata": {},
          "execution_count": 16
        }
      ]
    },
    {
      "cell_type": "markdown",
      "source": [
        "# Perfilación de datos"
      ],
      "metadata": {
        "id": "3I2oIUB1QoIu"
      }
    },
    {
      "cell_type": "code",
      "source": [
        "# profile_history = ProfileReport(estate_df)\n",
        "# profile_history.to_notebook_iframe()\n",
        "# profile_history.to_file('report.html')"
      ],
      "metadata": {
        "id": "79Y4FCZeziLS"
      },
      "execution_count": 17,
      "outputs": []
    },
    {
      "cell_type": "code",
      "source": [
        "# profile_news = ProfileReport(new_estate_df)\n",
        "# profile_news.to_notebook_iframe()\n",
        "# profile_news.to_file('report.html')"
      ],
      "metadata": {
        "id": "9kJzv_bQjT18"
      },
      "execution_count": 18,
      "outputs": []
    },
    {
      "cell_type": "markdown",
      "source": [
        "En ambos dtaframes se encontraron duplicados, entonces procedere a borrar todos los que tengan el mismo id (Que deberia ser unico) y me quedare con el primero"
      ],
      "metadata": {
        "id": "2vSfX2ni1BQS"
      }
    },
    {
      "cell_type": "code",
      "source": [
        "new_estate_df = new_estate_df.drop_duplicates(subset=['id'])\n",
        "estate_df = estate_df.drop_duplicates(subset=['id'])"
      ],
      "metadata": {
        "id": "v4nPDbB51MJv"
      },
      "execution_count": 19,
      "outputs": []
    },
    {
      "cell_type": "markdown",
      "source": [
        "# Limpieza por atributo"
      ],
      "metadata": {
        "id": "kRr32hdSQsC-"
      }
    },
    {
      "cell_type": "markdown",
      "source": [
        "## Neighbourhood Group"
      ],
      "metadata": {
        "id": "ts18r-GLQxyl"
      }
    },
    {
      "cell_type": "code",
      "execution_count": 20,
      "metadata": {
        "colab": {
          "base_uri": "https://localhost:8080/"
        },
        "id": "d-HXDf3P4Fsb",
        "outputId": "dcb3d2bd-8622-4e05-ad9e-d07f61d8690d"
      },
      "outputs": [
        {
          "output_type": "execute_result",
          "data": {
            "text/plain": [
              "array(['manhattan', 'brooklyn', 'queens', 'bronx', 'staten island',\n",
              "       'quens', '', 'manattan', 'broolkyn', 'manhatan', 'brookln'],\n",
              "      dtype=object)"
            ]
          },
          "metadata": {},
          "execution_count": 20
        }
      ],
      "source": [
        "groups = estate_df['neighbourhood group'].unique()\n",
        "groups"
      ]
    },
    {
      "cell_type": "markdown",
      "source": [
        "Se observa que existen registros con typos, para las cuales se corregira al nombre más cercano. Por otro lado, existen registros vacios, para los cuales se decidira no cambiar debido a que no es facil saber a donde pertenece."
      ],
      "metadata": {
        "id": "ZsRd5N2OkIOC"
      }
    },
    {
      "cell_type": "code",
      "source": [
        "estate_df['neighbourhood group'] = estate_df['neighbourhood group'].replace('manattan', 'manhattan')\n",
        "estate_df['neighbourhood group'] = estate_df['neighbourhood group'].replace('manhatan', 'manhattan')\n",
        "estate_df['neighbourhood group'] = estate_df['neighbourhood group'].replace('broolkyn', 'brooklyn')\n",
        "estate_df['neighbourhood group'] = estate_df['neighbourhood group'].replace('brookln', 'brooklyn')\n",
        "estate_df['neighbourhood group'] = estate_df['neighbourhood group'].replace('quens', 'queens')"
      ],
      "metadata": {
        "colab": {
          "base_uri": "https://localhost:8080/"
        },
        "id": "SCa4yAyZjnjV",
        "outputId": "5e24a10f-4a68-4d47-d958-9df8370eaeb9"
      },
      "execution_count": 21,
      "outputs": [
        {
          "output_type": "stream",
          "name": "stderr",
          "text": [
            "/usr/local/lib/python3.7/dist-packages/ipykernel_launcher.py:1: SettingWithCopyWarning: \n",
            "A value is trying to be set on a copy of a slice from a DataFrame.\n",
            "Try using .loc[row_indexer,col_indexer] = value instead\n",
            "\n",
            "See the caveats in the documentation: https://pandas.pydata.org/pandas-docs/stable/user_guide/indexing.html#returning-a-view-versus-a-copy\n",
            "  \"\"\"Entry point for launching an IPython kernel.\n",
            "/usr/local/lib/python3.7/dist-packages/ipykernel_launcher.py:2: SettingWithCopyWarning: \n",
            "A value is trying to be set on a copy of a slice from a DataFrame.\n",
            "Try using .loc[row_indexer,col_indexer] = value instead\n",
            "\n",
            "See the caveats in the documentation: https://pandas.pydata.org/pandas-docs/stable/user_guide/indexing.html#returning-a-view-versus-a-copy\n",
            "  \n",
            "/usr/local/lib/python3.7/dist-packages/ipykernel_launcher.py:3: SettingWithCopyWarning: \n",
            "A value is trying to be set on a copy of a slice from a DataFrame.\n",
            "Try using .loc[row_indexer,col_indexer] = value instead\n",
            "\n",
            "See the caveats in the documentation: https://pandas.pydata.org/pandas-docs/stable/user_guide/indexing.html#returning-a-view-versus-a-copy\n",
            "  This is separate from the ipykernel package so we can avoid doing imports until\n",
            "/usr/local/lib/python3.7/dist-packages/ipykernel_launcher.py:4: SettingWithCopyWarning: \n",
            "A value is trying to be set on a copy of a slice from a DataFrame.\n",
            "Try using .loc[row_indexer,col_indexer] = value instead\n",
            "\n",
            "See the caveats in the documentation: https://pandas.pydata.org/pandas-docs/stable/user_guide/indexing.html#returning-a-view-versus-a-copy\n",
            "  after removing the cwd from sys.path.\n",
            "/usr/local/lib/python3.7/dist-packages/ipykernel_launcher.py:5: SettingWithCopyWarning: \n",
            "A value is trying to be set on a copy of a slice from a DataFrame.\n",
            "Try using .loc[row_indexer,col_indexer] = value instead\n",
            "\n",
            "See the caveats in the documentation: https://pandas.pydata.org/pandas-docs/stable/user_guide/indexing.html#returning-a-view-versus-a-copy\n",
            "  \"\"\"\n"
          ]
        }
      ]
    },
    {
      "cell_type": "code",
      "source": [
        "groups = estate_df['neighbourhood group'].unique()\n",
        "groups"
      ],
      "metadata": {
        "colab": {
          "base_uri": "https://localhost:8080/"
        },
        "id": "NpOhxiuOlXx5",
        "outputId": "0a50b1eb-cfcb-4c73-a575-2808acbf2f9d"
      },
      "execution_count": 22,
      "outputs": [
        {
          "output_type": "execute_result",
          "data": {
            "text/plain": [
              "array(['manhattan', 'brooklyn', 'queens', 'bronx', 'staten island', ''],\n",
              "      dtype=object)"
            ]
          },
          "metadata": {},
          "execution_count": 22
        }
      ]
    },
    {
      "cell_type": "code",
      "execution_count": 23,
      "metadata": {
        "colab": {
          "base_uri": "https://localhost:8080/"
        },
        "outputId": "87d8de66-aaed-42df-d7a7-90a945dd70a5",
        "id": "SaR59fCJliYy"
      },
      "outputs": [
        {
          "output_type": "execute_result",
          "data": {
            "text/plain": [
              "array(['queens', 'manhattan', 'brooklyn', 'bronx', 'staten island', ''],\n",
              "      dtype=object)"
            ]
          },
          "metadata": {},
          "execution_count": 23
        }
      ],
      "source": [
        "groups_news = new_estate_df['neighbourhood group'].unique()\n",
        "groups_news"
      ]
    },
    {
      "cell_type": "markdown",
      "source": [
        "No se encontraron problemas en este código "
      ],
      "metadata": {
        "id": "LX8qpqI2liYz"
      }
    },
    {
      "cell_type": "markdown",
      "source": [
        "Esto se podria ser muy importante para predecir la popularidad de un inmueble por lo que se convertir a valores numericos para ser utilizado en el modelo"
      ],
      "metadata": {
        "id": "FFmmyXB65_zg"
      }
    },
    {
      "cell_type": "code",
      "source": [
        "for i, group in enumerate(groups):\n",
        "  estate_df['neighbourhood group'] = estate_df['neighbourhood group'].replace(group, i)\n",
        "  new_estate_df['neighbourhood group'] = new_estate_df['neighbourhood group'].replace(group, i)"
      ],
      "metadata": {
        "id": "4qyEaHVn6R9H"
      },
      "execution_count": 24,
      "outputs": []
    },
    {
      "cell_type": "markdown",
      "source": [
        "## Neighbourhood"
      ],
      "metadata": {
        "id": "OdMuZqwWQ46Z"
      }
    },
    {
      "cell_type": "code",
      "source": [
        "neighbourhoods = estate_df['neighbourhood'].unique()\n",
        "neighbourhoods"
      ],
      "metadata": {
        "colab": {
          "base_uri": "https://localhost:8080/"
        },
        "id": "lJEIIrouv0hc",
        "outputId": "0d50ad3b-6fa0-4544-c398-c8dee3841a4d"
      },
      "execution_count": 25,
      "outputs": [
        {
          "output_type": "execute_result",
          "data": {
            "text/plain": [
              "array([\"hell's kitchen\", 'midtown', 'upper west side',\n",
              "       'financial district', 'lower east side', 'greenwich village',\n",
              "       'morningside heights', 'crown heights', 'astoria', 'clinton hill',\n",
              "       'harlem', 'bushwick', 'washington heights',\n",
              "       'prospect-lefferts gardens', 'prospect heights', 'east village',\n",
              "       'bath beach', 'brooklyn heights', 'borough park',\n",
              "       'bedford-stuyvesant', 'upper east side', 'wakefield',\n",
              "       'windsor terrace', 'williamsburg', 'flatbush', 'kew gardens',\n",
              "       'west village', 'flatlands', 'bay ridge', 'east new york',\n",
              "       'kips bay', 'st. albans', 'st. george', 'forest hills', 'gramercy',\n",
              "       'glendale', 'dongan hills', 'far rockaway', 'park slope',\n",
              "       'greenpoint', 'concourse', 'little italy', 'elmhurst', 'chelsea',\n",
              "       'east harlem', 'kingsbridge', 'arverne', 'sunset park',\n",
              "       'south slope', 'nolita', 'east flatbush', 'murray hill',\n",
              "       'boerum hill', 'ridgewood', 'coney island', 'gowanus',\n",
              "       'bensonhurst', 'cambria heights', 'cobble hill',\n",
              "       'long island city', 'flushing', 'tribeca', 'inwood', 'briarwood',\n",
              "       'spuyten duyvil', 'concord', 'noho', 'randall manor', 'fordham',\n",
              "       'springfield gardens', 'fort greene', 'corona', 'ditmars steinway',\n",
              "       'cypress hills', 'chinatown', 'east elmhurst', 'flatiron district',\n",
              "       'jamaica', 'sheepshead bay', 'downtown brooklyn', 'edenwald',\n",
              "       'kensington', 'oakwood', 'eltingville', 'theater district',\n",
              "       'woodside', 'gravesend', 'schuylerville', 'soho', 'middle village',\n",
              "       'canarsie', 'richmond hill', 'sunnyside', 'jackson heights',\n",
              "       'parkchester', 'mott haven', 'maspeth', 'stapleton',\n",
              "       'carroll gardens', 'midland beach', 'midwood', 'van nest',\n",
              "       'rego park', 'fort hamilton', 'university heights', 'woodhaven',\n",
              "       'brighton beach', 'rosebank', 'williamsbridge', 'port morris',\n",
              "       'vinegar hill', 'whitestone', 'bayside', 'longwood',\n",
              "       'port richmond', 'laurelton', 'roosevelt island', 'tremont',\n",
              "       'throgs neck', 'unionport', 'olinville', 'civic center',\n",
              "       'city island', 'red hook', 'clason point', 'battery park city',\n",
              "       'highbridge', 'queens village', 'todt hill', 'rockaway beach',\n",
              "       'pelham gardens', 'rossville', 'concourse village', 'new brighton',\n",
              "       'brownsville', 'baychester', 'south ozone park', '', 'bronxdale',\n",
              "       'hunts point', 'tompkinsville', 'ozone park', 'college point',\n",
              "       'mount eden', 'dumbo', 'morris park', 'gerritsen beach',\n",
              "       'fresh meadows', 'westchester square', 'marble hill',\n",
              "       'shore acres', 'jamaica hills', 'kew gardens hills', 'two bridges',\n",
              "       'claremont village', 'bayswater', 'columbia st', 'morrisania',\n",
              "       'jamaica estates', 'belle harbor', 'howard beach',\n",
              "       'lighthouse hill', 'norwood', 'mariners harbor', 'rosedale',\n",
              "       'navy yard', \"bull's head\", 'fieldston', 'north riverdale',\n",
              "       'bergen beach', 'manhattan beach', 'grant city', 'douglaston',\n",
              "       'emerson hill', 'bay terrace, staten island', 'eastchester',\n",
              "       'woodlawn', \"prince's bay\", 'allerton', 'stuyvesant town',\n",
              "       'belmont', 'castle hill', 'arrochar', 'edgemere',\n",
              "       'castleton corners', 'grymes hill', 'pelham bay',\n",
              "       'east morrisania', 'riverdale', 'bellerose', 'south beach',\n",
              "       'hollis', 'arden heights', 'clifton', 'west brighton',\n",
              "       'mount hope', 'howland hook', 'little neck', 'dyker heights',\n",
              "       'soundview', 'sea gate', 'morris heights', 'breezy point',\n",
              "       'neponsit', 'melrose', 'new dorp beach', 'co-op city', 'huguenot',\n",
              "       'great kills', 'new springville', 'mill basin', 'west farms',\n",
              "       'chelsea, staten island', 'bay terrace', 'tottenville',\n",
              "       'holliswood', 'glen oaks', 'richmondtown', 'silver lake',\n",
              "       'graniteville', 'willowbrook', 'westerleigh', 'woodrow',\n",
              "       'new dorp', 'fort wadsworth'], dtype=object)"
            ]
          },
          "metadata": {},
          "execution_count": 25
        }
      ]
    },
    {
      "cell_type": "code",
      "source": [
        "neighbourhoods_new = new_estate_df['neighbourhood'].unique()\n",
        "neighbourhoods_new"
      ],
      "metadata": {
        "colab": {
          "base_uri": "https://localhost:8080/"
        },
        "outputId": "3a71a52f-e91a-4608-8b3e-2edfd3ce032f",
        "id": "PnaN_NmzmhbY"
      },
      "execution_count": 26,
      "outputs": [
        {
          "output_type": "execute_result",
          "data": {
            "text/plain": [
              "array(['ozone park', 'civic center', 'east elmhurst', 'gramercy',\n",
              "       'upper west side', 'chelsea', 'williamsburg', 'jackson heights',\n",
              "       'midtown', 'lower east side', 'harlem', 'roosevelt island',\n",
              "       'bensonhurst', 'flatbush', 'bushwick', 'washington heights',\n",
              "       'kensington', 'ridgewood', 'boerum hill', 'east harlem',\n",
              "       'east new york', 'bedford-stuyvesant', 'kips bay', 'astoria',\n",
              "       'crown heights', 'inwood', 'east village', 'upper east side',\n",
              "       \"hell's kitchen\", 'prospect heights', 'red hook', 'corona',\n",
              "       'windsor terrace', 'west village', 'kingsbridge',\n",
              "       'springfield gardens', 'east flatbush', 'park slope',\n",
              "       'murray hill', 'greenpoint', 'tribeca', 'battery park city',\n",
              "       'chinatown', 'mott haven', 'fort greene', 'brooklyn heights',\n",
              "       'financial district', 'theater district', 'clinton hill',\n",
              "       'riverdale', 'st. albans', 'cypress hills', 'long island city',\n",
              "       'jamaica', 'prospect-lefferts gardens', 'sunnyside', 'pelham bay',\n",
              "       'south slope', 'ditmars steinway', 'canarsie', 'kew gardens',\n",
              "       'middle village', 'woodside', 'arverne', 'gowanus', 'nolita',\n",
              "       'cobble hill', 'clifton', 'flushing', 'hunts point',\n",
              "       'richmond hill', 'huguenot', 'wakefield', 'carroll gardens',\n",
              "       'eastchester', 'schuylerville', 'rego park', 'glendale',\n",
              "       'unionport', '', 'greenwich village', 'woodhaven', 'emerson hill',\n",
              "       'soho', 'maspeth', 'sunset park', 'noho', 'elmhurst', 'bellerose',\n",
              "       'briarwood', 'morningside heights', 'olinville', 'concord',\n",
              "       'brownsville', 'van nest'], dtype=object)"
            ]
          },
          "metadata": {},
          "execution_count": 26
        }
      ]
    },
    {
      "cell_type": "markdown",
      "source": [
        "A simple vista no se ven problemas con esta columna"
      ],
      "metadata": {
        "id": "n2meRpOUmUB9"
      }
    },
    {
      "cell_type": "markdown",
      "source": [
        "## Country"
      ],
      "metadata": {
        "id": "ELaJpPBzQ-VR"
      }
    },
    {
      "cell_type": "code",
      "source": [
        "countries = estate_df['country'].unique()\n",
        "countries"
      ],
      "metadata": {
        "colab": {
          "base_uri": "https://localhost:8080/"
        },
        "id": "dKyBKUZizxUi",
        "outputId": "eccdfa87-4c04-4d04-ed7c-67a37ba1b2da"
      },
      "execution_count": 27,
      "outputs": [
        {
          "output_type": "execute_result",
          "data": {
            "text/plain": [
              "array(['united states', '', 'united states of america'], dtype=object)"
            ]
          },
          "metadata": {},
          "execution_count": 27
        }
      ]
    },
    {
      "cell_type": "code",
      "source": [
        "estate_df = estate_df.drop(columns = ['country'])"
      ],
      "metadata": {
        "id": "kp1AgvLGnUd-"
      },
      "execution_count": 28,
      "outputs": []
    },
    {
      "cell_type": "code",
      "source": [
        "countries_new = new_estate_df['country'].unique()\n",
        "countries_new"
      ],
      "metadata": {
        "colab": {
          "base_uri": "https://localhost:8080/"
        },
        "outputId": "709812ce-8735-4804-f9cc-eaa5625ddba1",
        "id": "b2nKiG-Knn_n"
      },
      "execution_count": 29,
      "outputs": [
        {
          "output_type": "execute_result",
          "data": {
            "text/plain": [
              "array(['united states', ''], dtype=object)"
            ]
          },
          "metadata": {},
          "execution_count": 29
        }
      ]
    },
    {
      "cell_type": "code",
      "source": [
        "new_estate_df = new_estate_df.drop(columns = ['country'])"
      ],
      "metadata": {
        "id": "NTang4Xsnn_o"
      },
      "execution_count": 30,
      "outputs": []
    },
    {
      "cell_type": "markdown",
      "source": [
        "Debido a que solo existe un pais se borrara esta columna. (Se puede asumir que es solo una porque son variaciones de lo mismo o es texto vacio)"
      ],
      "metadata": {
        "id": "Fi__K32zm1mr"
      }
    },
    {
      "cell_type": "markdown",
      "source": [
        "## Cancellation Policy"
      ],
      "metadata": {
        "id": "zV5Vfg6NRDZs"
      }
    },
    {
      "cell_type": "code",
      "source": [
        "cancellation_policies\t = estate_df['cancellation_policy'].unique()\n",
        "cancellation_policies"
      ],
      "metadata": {
        "colab": {
          "base_uri": "https://localhost:8080/"
        },
        "id": "MEcxir9Sz-jF",
        "outputId": "12677a1f-c480-48bb-cd04-6e67860bc174"
      },
      "execution_count": 31,
      "outputs": [
        {
          "output_type": "execute_result",
          "data": {
            "text/plain": [
              "array(['strict', 'flexible', 'moderate', ''], dtype=object)"
            ]
          },
          "metadata": {},
          "execution_count": 31
        }
      ]
    },
    {
      "cell_type": "code",
      "source": [
        "cancellation_policies_new\t = new_estate_df['cancellation_policy'].unique()\n",
        "cancellation_policies_new"
      ],
      "metadata": {
        "colab": {
          "base_uri": "https://localhost:8080/"
        },
        "id": "Atn2aHGfoC4Z",
        "outputId": "b7afb1e1-5004-4040-da1b-2eed653cdba9"
      },
      "execution_count": 32,
      "outputs": [
        {
          "output_type": "execute_result",
          "data": {
            "text/plain": [
              "array(['moderate', 'flexible', 'strict', ''], dtype=object)"
            ]
          },
          "metadata": {},
          "execution_count": 32
        }
      ]
    },
    {
      "cell_type": "code",
      "source": [
        "estate_df['cancellation_policy'] = estate_df['cancellation_policy'].replace('', -1000)\n",
        "new_estate_df['cancellation_policy'] = new_estate_df['cancellation_policy'].replace('', -1000)\n",
        "for i, policy in enumerate(cancellation_policies):\n",
        "  estate_df['cancellation_policy'] = estate_df['cancellation_policy'].replace(policy, i)\n",
        "  new_estate_df['cancellation_policy'] = new_estate_df['cancellation_policy'].replace(policy, i)"
      ],
      "metadata": {
        "id": "2-7WlvANjqvk"
      },
      "execution_count": 33,
      "outputs": []
    },
    {
      "cell_type": "markdown",
      "source": [
        "## Room Type"
      ],
      "metadata": {
        "id": "hEmnpUzCRJ24"
      }
    },
    {
      "cell_type": "code",
      "source": [
        "room_types = estate_df['room type'].unique()\n",
        "room_types"
      ],
      "metadata": {
        "colab": {
          "base_uri": "https://localhost:8080/"
        },
        "id": "bU8UrmhS0N3-",
        "outputId": "93fec1ae-f7f7-4ec9-92f7-e00c371dab11"
      },
      "execution_count": 34,
      "outputs": [
        {
          "output_type": "execute_result",
          "data": {
            "text/plain": [
              "array(['entire home/apt', 'hotel room', 'private room', 'shared room'],\n",
              "      dtype=object)"
            ]
          },
          "metadata": {},
          "execution_count": 34
        }
      ]
    },
    {
      "cell_type": "code",
      "source": [
        "room_types_new = new_estate_df['room type'].unique()\n",
        "room_types_new"
      ],
      "metadata": {
        "colab": {
          "base_uri": "https://localhost:8080/"
        },
        "id": "SKrAzNrQoKVp",
        "outputId": "c8dc56e0-1e80-402d-9151-54ef1d9ad886"
      },
      "execution_count": 35,
      "outputs": [
        {
          "output_type": "execute_result",
          "data": {
            "text/plain": [
              "array(['private room', 'entire home/apt', 'shared room', 'hotel room', ''],\n",
              "      dtype=object)"
            ]
          },
          "metadata": {},
          "execution_count": 35
        }
      ]
    },
    {
      "cell_type": "code",
      "source": [
        "estate_df['room type'] = estate_df['room type'].replace('', -1000)\n",
        "new_estate_df['room type'] = new_estate_df['room type'].replace('', -1000)\n",
        "for i, room_type in enumerate(room_types):\n",
        "  estate_df['room type'] = estate_df['room type'].replace(room_type, i)\n",
        "  new_estate_df['room type'] = new_estate_df['room type'].replace(room_type, i)"
      ],
      "metadata": {
        "id": "MjNnQbzJlOju"
      },
      "execution_count": 36,
      "outputs": []
    },
    {
      "cell_type": "markdown",
      "source": [
        "## Construction Year"
      ],
      "metadata": {
        "id": "Sn5z4UTCRRhM"
      }
    },
    {
      "cell_type": "code",
      "source": [
        "years = estate_df['construction year'].unique()\n",
        "years.sort()\n",
        "years"
      ],
      "metadata": {
        "colab": {
          "base_uri": "https://localhost:8080/"
        },
        "id": "UEYVruTSCFDb",
        "outputId": "3dce1df9-7d68-4e7f-e12a-c540118d1cf6"
      },
      "execution_count": 37,
      "outputs": [
        {
          "output_type": "execute_result",
          "data": {
            "text/plain": [
              "array([   0, 1020, 1022, 2003, 2004, 2005, 2006, 2007, 2008, 2009, 2010,\n",
              "       2011, 2012, 2013, 2014, 2015, 2016, 2017, 2018, 2019, 2020, 2021,\n",
              "       2022])"
            ]
          },
          "metadata": {},
          "execution_count": 37
        }
      ]
    },
    {
      "cell_type": "markdown",
      "source": [
        "Para este caso no tiene sentido años menores al 1700, por lo que 1020 y 1022 porque son casas en USA, deben ser typos de 2020 y 2022 respectivamente, para los valores de 0 se reemplazaran con 2012 debido a que es el años más cercano al promedio de los datos que tienen sentido."
      ],
      "metadata": {
        "id": "AyU6CIc2oV2F"
      }
    },
    {
      "cell_type": "code",
      "source": [
        "estate_df['construction year'] = estate_df['construction year'].replace(0, 2012)\n",
        "estate_df['construction year'] = estate_df['construction year'].replace(1020, 2020)\n",
        "estate_df['construction year'] = estate_df['construction year'].replace(1020, 2022)"
      ],
      "metadata": {
        "id": "3HkdU4u9oVOs"
      },
      "execution_count": 38,
      "outputs": []
    },
    {
      "cell_type": "code",
      "source": [
        "years_new = new_estate_df['construction year'].unique()\n",
        "years_new.sort()\n",
        "years_new"
      ],
      "metadata": {
        "colab": {
          "base_uri": "https://localhost:8080/"
        },
        "outputId": "d705ff5f-889e-4fcd-a38a-eeb81165b6b7",
        "id": "MncVMpR6phhV"
      },
      "execution_count": 39,
      "outputs": [
        {
          "output_type": "execute_result",
          "data": {
            "text/plain": [
              "array([   0, 2003, 2004, 2005, 2006, 2007, 2008, 2009, 2010, 2011, 2012,\n",
              "       2013, 2014, 2015, 2016, 2017, 2018, 2019, 2020, 2021, 2022])"
            ]
          },
          "metadata": {},
          "execution_count": 39
        }
      ]
    },
    {
      "cell_type": "markdown",
      "source": [
        "Para este caso no tiene sentido años menores al 1900, por lo que los valores de 0 se reemplazaran con 2012 debido a que es el años más cercano al promedio de los datos que tienen sentido."
      ],
      "metadata": {
        "id": "9snevfNrphhW"
      }
    },
    {
      "cell_type": "code",
      "source": [
        "new_estate_df['construction year'] = new_estate_df['construction year'].replace(0, 2012)"
      ],
      "metadata": {
        "id": "KtsGroS7phhW"
      },
      "execution_count": 40,
      "outputs": []
    },
    {
      "cell_type": "markdown",
      "source": [
        "## Price"
      ],
      "metadata": {
        "id": "zaZPyRNSR4B9"
      }
    },
    {
      "cell_type": "code",
      "source": [
        "prices_serie = estate_df['price']\n",
        "min_price = prices_serie.quantile(0)\n",
        "median_price = prices_serie.quantile(0.5)\n",
        "average_price = prices_serie.mean()\n",
        "max_price = prices_serie.quantile(1)\n",
        "print(f'Min: {min_price} Median: {median_price} Average: {average_price} Max : {max_price}')"
      ],
      "metadata": {
        "colab": {
          "base_uri": "https://localhost:8080/"
        },
        "id": "bVcnoCtGFfez",
        "outputId": "079c0da9-d881-4088-800c-4fe30e45caf5"
      },
      "execution_count": 41,
      "outputs": [
        {
          "output_type": "stream",
          "name": "stdout",
          "text": [
            "Min: -611.0 Median: 425.0 Average: 434.5257448180745 Max : 254000.0\n"
          ]
        }
      ]
    },
    {
      "cell_type": "markdown",
      "source": [
        "AL ser precios de arriendo por noche un arriendo de más de 20000 dolares en mi opinion es exagerado porque se estaria acercando al precio de venta de muchos inmuebles, ademas no tiene sntido precios negativos por lo cual se hara un valor absuluto y luego se limitara el rango de 0 a 20000"
      ],
      "metadata": {
        "id": "ItGiNtTDrJtH"
      }
    },
    {
      "cell_type": "code",
      "source": [
        "estate_df['price'] = estate_df['price'].abs()\n",
        "estate_df['price'] = estate_df['price'].clip(0, 20000)"
      ],
      "metadata": {
        "id": "g_Xilm4or-Ha"
      },
      "execution_count": 42,
      "outputs": []
    },
    {
      "cell_type": "code",
      "source": [
        "prices_serie = estate_df['price']\n",
        "min_price = prices_serie.quantile(0)\n",
        "median_price = prices_serie.quantile(0.5)\n",
        "average_price = prices_serie.mean()\n",
        "max_price = prices_serie.quantile(1)\n",
        "print(f'Min: {min_price} Median: {median_price} Average: {average_price} Max : {max_price}')"
      ],
      "metadata": {
        "colab": {
          "base_uri": "https://localhost:8080/"
        },
        "id": "8ZLfbY3YsfmZ",
        "outputId": "1579ab38-cda0-4aa7-be4c-029883745ab8"
      },
      "execution_count": 43,
      "outputs": [
        {
          "output_type": "stream",
          "name": "stdout",
          "text": [
            "Min: 0.0 Median: 425.0 Average: 432.2160497306093 Max : 20000.0\n"
          ]
        }
      ]
    },
    {
      "cell_type": "code",
      "source": [
        "histogram('price', min_price, max_price, 1000, ylim=1000)"
      ],
      "metadata": {
        "colab": {
          "base_uri": "https://localhost:8080/",
          "height": 544
        },
        "id": "bqqKOqSmDU8E",
        "outputId": "84fb4a1e-9acb-4af9-b13b-e1cba1501e34"
      },
      "execution_count": 44,
      "outputs": [
        {
          "output_type": "display_data",
          "data": {
            "text/plain": [
              "<Figure size 1080x648 with 1 Axes>"
            ],
            "image/png": "[encoded data removed]"
          },
          "metadata": {}
        }
      ]
    },
    {
      "cell_type": "markdown",
      "source": [
        "Se sigue observando que no existen casi inmuebles con precios mayores a 1000 por lo que se limitara mas el rango"
      ],
      "metadata": {
        "id": "Xk_uZRpntJ_3"
      }
    },
    {
      "cell_type": "code",
      "source": [
        "estate_df['price'] = estate_df['price'].clip(0, 1000)"
      ],
      "metadata": {
        "id": "5ot_D7wktWrf"
      },
      "execution_count": 45,
      "outputs": []
    },
    {
      "cell_type": "code",
      "source": [
        "prices_serie = estate_df['price']\n",
        "min_price = prices_serie.quantile(0)\n",
        "median_price = prices_serie.quantile(0.5)\n",
        "average_price = prices_serie.mean()\n",
        "max_price = prices_serie.quantile(1)\n",
        "print(f'Min: {min_price} Median: {median_price} Average: {average_price} Max : {max_price}')"
      ],
      "metadata": {
        "colab": {
          "base_uri": "https://localhost:8080/"
        },
        "outputId": "4bb9343f-dc39-48b5-f833-79c83e80f882",
        "id": "Z17tjsvdtWrf"
      },
      "execution_count": 46,
      "outputs": [
        {
          "output_type": "stream",
          "name": "stdout",
          "text": [
            "Min: 0.0 Median: 425.0 Average: 432.02752587241895 Max : 1000.0\n"
          ]
        }
      ]
    },
    {
      "cell_type": "code",
      "source": [
        "histogram('price', min_price, max_price, 10000, ylim=30000)"
      ],
      "metadata": {
        "colab": {
          "base_uri": "https://localhost:8080/",
          "height": 544
        },
        "outputId": "e51f185a-fe8a-401a-931d-44207cca4cd0",
        "id": "aRCQcRNctWrf"
      },
      "execution_count": 119,
      "outputs": [
        {
          "output_type": "display_data",
          "data": {
            "text/plain": [
              "<Figure size 1080x648 with 1 Axes>"
            ],
            "image/png": "[encoded data removed]"
          },
          "metadata": {}
        }
      ]
    },
    {
      "cell_type": "code",
      "source": [
        "new_estate_df['price'] = new_estate_df['price'].abs()\n",
        "new_estate_df['price'] = new_estate_df['price'].clip(0, 1000)"
      ],
      "metadata": {
        "id": "JJTz2eE9uphR"
      },
      "execution_count": 48,
      "outputs": []
    },
    {
      "cell_type": "code",
      "source": [
        "prices_serie = new_estate_df['price']\n",
        "min_price = prices_serie.quantile(0)\n",
        "median_price = prices_serie.quantile(0.5)\n",
        "average_price = prices_serie.mean()\n",
        "max_price = prices_serie.quantile(1)\n",
        "print(f'Min: {min_price} Median: {median_price} Average: {average_price} Max : {max_price}')"
      ],
      "metadata": {
        "colab": {
          "base_uri": "https://localhost:8080/"
        },
        "outputId": "17f0fbbd-146f-4985-9a65-63c668694a35",
        "id": "Hmwq5w-wuphS"
      },
      "execution_count": 49,
      "outputs": [
        {
          "output_type": "stream",
          "name": "stdout",
          "text": [
            "Min: 0.0 Median: 401.0 Average: 417.4153606237817 Max : 999.0\n"
          ]
        }
      ]
    },
    {
      "cell_type": "code",
      "source": [
        "histogram('price', min_price, max_price, 100, ylim=15, df=new_estate_df)"
      ],
      "metadata": {
        "colab": {
          "base_uri": "https://localhost:8080/",
          "height": 540
        },
        "outputId": "8bdd9e25-0c27-4d54-8b40-756cc4d90c33",
        "id": "8DSAUC2IuphS"
      },
      "execution_count": 50,
      "outputs": [
        {
          "output_type": "display_data",
          "data": {
            "text/plain": [
              "<Figure size 1080x648 with 1 Axes>"
            ],
            "image/png": "[encoded data removed]"
          },
          "metadata": {}
        }
      ]
    },
    {
      "cell_type": "markdown",
      "source": [
        "Se haran las mismas transformaciones para los precios de los inmuebles nuevos"
      ],
      "metadata": {
        "id": "CZTVjXpAuc0J"
      }
    },
    {
      "cell_type": "markdown",
      "source": [
        "## Service Fee"
      ],
      "metadata": {
        "id": "H1O4BJ56R7oH"
      }
    },
    {
      "cell_type": "code",
      "source": [
        "fee_serie = estate_df['service fee']\n",
        "min_fee = fee_serie.quantile(0)\n",
        "median_fee = fee_serie.quantile(0.5)\n",
        "average_fee = fee_serie.mean()\n",
        "max_fee = fee_serie.quantile(1)\n",
        "print(f'Min: {min_fee} Median: {median_fee} Average: {average_fee} Max : {max_fee}')"
      ],
      "metadata": {
        "colab": {
          "base_uri": "https://localhost:8080/"
        },
        "id": "HXjSAhRxJc95",
        "outputId": "281b37b3-b0a6-41a1-f4f3-ebb07d909ebd"
      },
      "execution_count": 51,
      "outputs": [
        {
          "output_type": "stream",
          "name": "stdout",
          "text": [
            "Min: -193.0 Median: 124.0 Average: 125.87755871525953 Max : 122000.0\n"
          ]
        }
      ]
    },
    {
      "cell_type": "code",
      "source": [
        "estate_df['service fee'] = estate_df['service fee'].abs()\n",
        "estate_df['service fee'] = estate_df['service fee'].clip(0, 500)"
      ],
      "metadata": {
        "id": "oC3RHyFdvqs3"
      },
      "execution_count": 52,
      "outputs": []
    },
    {
      "cell_type": "code",
      "source": [
        "new_estate_df['service fee'] = new_estate_df['service fee'].abs()\n",
        "new_estate_df['service fee'] = new_estate_df['service fee'].clip(0, 500)"
      ],
      "metadata": {
        "id": "Xj8KUg9uv-k4"
      },
      "execution_count": 53,
      "outputs": []
    },
    {
      "cell_type": "markdown",
      "source": [
        "No tienen sentido service fees de más de 500 dolaresn ni menores a 0 por lo que se hara valor absoluto y luego clip"
      ],
      "metadata": {
        "id": "5NSWXH0ruXdh"
      }
    },
    {
      "cell_type": "code",
      "source": [
        "fee_serie = estate_df['service fee']\n",
        "min_fee = fee_serie.quantile(0)\n",
        "median_fee = fee_serie.quantile(0.5)\n",
        "average_fee = fee_serie.mean()\n",
        "max_fee = fee_serie.quantile(1)\n",
        "print(f'Min: {min_fee} Median: {median_fee} Average: {average_fee} Max : {max_fee}')"
      ],
      "metadata": {
        "colab": {
          "base_uri": "https://localhost:8080/"
        },
        "outputId": "324bc97a-09a6-43d9-b807-0e185392c909",
        "id": "V89OhSipv7Dk"
      },
      "execution_count": 54,
      "outputs": [
        {
          "output_type": "stream",
          "name": "stdout",
          "text": [
            "Min: 0.0 Median: 124.0 Average: 124.6758282646875 Max : 500.0\n"
          ]
        }
      ]
    },
    {
      "cell_type": "code",
      "source": [
        "histogram('service fee', min_fee, max_fee, 1000)"
      ],
      "metadata": {
        "colab": {
          "base_uri": "https://localhost:8080/",
          "height": 540
        },
        "id": "kqyceFA_FSmk",
        "outputId": "db720d30-5443-4d04-c03d-f56da4782411"
      },
      "execution_count": 120,
      "outputs": [
        {
          "output_type": "display_data",
          "data": {
            "text/plain": [
              "<Figure size 1080x648 with 1 Axes>"
            ],
            "image/png": "[encoded data removed]"
          },
          "metadata": {}
        }
      ]
    },
    {
      "cell_type": "markdown",
      "source": [
        "## Minimum Nights"
      ],
      "metadata": {
        "id": "jcVdJP6BR-fq"
      }
    },
    {
      "cell_type": "code",
      "source": [
        "nights_serie = estate_df['minimum nights']\n",
        "min_nights = nights_serie.quantile(0)\n",
        "median_nights = nights_serie.quantile(0.5)\n",
        "average_nights = nights_serie.mean()\n",
        "max_nights = nights_serie.quantile(1)\n",
        "print(f'Min: {min_nights} Median: {median_nights} Average: {average_nights} Max : {max_nights}')"
      ],
      "metadata": {
        "colab": {
          "base_uri": "https://localhost:8080/"
        },
        "outputId": "89763f90-2ebf-44b3-f9b0-8fccd9880ea4",
        "id": "FdEzVa-xKUFD"
      },
      "execution_count": 56,
      "outputs": [
        {
          "output_type": "stream",
          "name": "stdout",
          "text": [
            "Min: -1223.0 Median: 3.0 Average: 8.115217844279293 Max : 5645.0\n"
          ]
        }
      ]
    },
    {
      "cell_type": "markdown",
      "source": [
        "No tiene sentido que una persona se quede ni dias negativos ni que haya reserva de mas de 1 año por lo cual se volvera a hacer valor absoluto y se limitara entre 1 y 365"
      ],
      "metadata": {
        "id": "252i4CutwIzA"
      }
    },
    {
      "cell_type": "code",
      "source": [
        "estate_df['minimum nights'] = estate_df['minimum nights'].abs()\n",
        "estate_df['minimum nights'] = estate_df['minimum nights'].clip(0, 365)"
      ],
      "metadata": {
        "id": "RNkug5oFwegM"
      },
      "execution_count": 57,
      "outputs": []
    },
    {
      "cell_type": "code",
      "source": [
        "new_estate_df['minimum nights'] = new_estate_df['minimum nights'].abs()\n",
        "new_estate_df['minimum nights'] = new_estate_df['minimum nights'].clip(1, 365)"
      ],
      "metadata": {
        "id": "G_P31at0wegM"
      },
      "execution_count": 58,
      "outputs": []
    },
    {
      "cell_type": "code",
      "source": [
        "nights_serie = estate_df['minimum nights']\n",
        "min_nights = nights_serie.quantile(0)\n",
        "median_nights = nights_serie.quantile(0.5)\n",
        "average_nights = nights_serie.mean()\n",
        "max_nights = nights_serie.quantile(1)\n",
        "print(f'Min: {min_nights} Median: {median_nights} Average: {average_nights} Max : {max_nights}')"
      ],
      "metadata": {
        "colab": {
          "base_uri": "https://localhost:8080/"
        },
        "outputId": "4b424355-aa84-408b-8fd9-f76dd0be9232",
        "id": "TYWTz_EFwzXu"
      },
      "execution_count": 59,
      "outputs": [
        {
          "output_type": "stream",
          "name": "stdout",
          "text": [
            "Min: 0.0 Median: 3.0 Average: 7.966105394759037 Max : 365.0\n"
          ]
        }
      ]
    },
    {
      "cell_type": "code",
      "source": [
        "histogram('minimum nights', min_nights, max_nights, int(max_nights))"
      ],
      "metadata": {
        "colab": {
          "base_uri": "https://localhost:8080/",
          "height": 540
        },
        "outputId": "2af63d01-b1aa-489b-8e79-74e468913776",
        "id": "7HdPoSGiKUFD"
      },
      "execution_count": 60,
      "outputs": [
        {
          "output_type": "display_data",
          "data": {
            "text/plain": [
              "<Figure size 1080x648 with 1 Axes>"
            ],
            "image/png": "[encoded data removed]"
          },
          "metadata": {}
        }
      ]
    },
    {
      "cell_type": "markdown",
      "source": [
        "## Availability 365"
      ],
      "metadata": {
        "id": "to5imJ52SBsF"
      }
    },
    {
      "cell_type": "code",
      "source": [
        "availability_serie = estate_df['availability 365']\n",
        "min_availability = availability_serie.quantile(0)\n",
        "median_availability = availability_serie.quantile(0.5)\n",
        "average_availability = availability_serie.mean()\n",
        "max_availability = availability_serie.quantile(1)\n",
        "print(f'Min: {min_availability} Median: {median_availability} Average: {average_availability} Max : {max_availability}')"
      ],
      "metadata": {
        "colab": {
          "base_uri": "https://localhost:8080/"
        },
        "outputId": "3cf3be38-1f7f-49e6-bb00-da8dc66524e7",
        "id": "RHUKjsQHLTgN"
      },
      "execution_count": 61,
      "outputs": [
        {
          "output_type": "stream",
          "name": "stdout",
          "text": [
            "Min: -10.0 Median: 95.0 Average: 140.44475754839607 Max : 3677.0\n"
          ]
        }
      ]
    },
    {
      "cell_type": "markdown",
      "source": [
        "Este valor tienen que estar entre 0 y 365 dias"
      ],
      "metadata": {
        "id": "F7vAOe4Gw92k"
      }
    },
    {
      "cell_type": "code",
      "source": [
        "estate_df['availability 365'] = estate_df['availability 365'].abs()\n",
        "estate_df['availability 365'] = estate_df['availability 365'].clip(0, 365)\n",
        "\n",
        "new_estate_df['availability 365'] = new_estate_df['availability 365'].abs()\n",
        "new_estate_df['availability 365'] = new_estate_df['availability 365'].clip(0, 365)"
      ],
      "metadata": {
        "id": "ez3ZfY_5xECt"
      },
      "execution_count": 62,
      "outputs": []
    },
    {
      "cell_type": "code",
      "source": [
        "availability_serie = estate_df['availability 365']\n",
        "min_availability = availability_serie.quantile(0)\n",
        "median_availability = availability_serie.quantile(0.5)\n",
        "average_availability = availability_serie.mean()\n",
        "max_availability = availability_serie.quantile(1)\n",
        "print(f'Min: {min_availability} Median: {median_availability} Average: {average_availability} Max : {max_availability}')"
      ],
      "metadata": {
        "colab": {
          "base_uri": "https://localhost:8080/"
        },
        "outputId": "bdeab49a-40e8-4a28-93d6-5d5e6bf80b17",
        "id": "ODbUdlZlxgzF"
      },
      "execution_count": 63,
      "outputs": [
        {
          "output_type": "stream",
          "name": "stdout",
          "text": [
            "Min: 0.0 Median: 95.0 Average: 139.62659377077483 Max : 365.0\n"
          ]
        }
      ]
    },
    {
      "cell_type": "code",
      "source": [
        "histogram('availability 365', min_availability, max_availability, int(max_availability), ylim = 10000)"
      ],
      "metadata": {
        "colab": {
          "base_uri": "https://localhost:8080/",
          "height": 544
        },
        "outputId": "40232612-eb66-41ab-f9ee-da2b4b012705",
        "id": "sq6jzFwaLTgO"
      },
      "execution_count": 121,
      "outputs": [
        {
          "output_type": "display_data",
          "data": {
            "text/plain": [
              "<Figure size 1080x648 with 1 Axes>"
            ],
            "image/png": "[encoded data removed]"
          },
          "metadata": {}
        }
      ]
    },
    {
      "cell_type": "markdown",
      "source": [
        "## Number of Reviews"
      ],
      "metadata": {
        "id": "aLkgtu7eSFVd"
      }
    },
    {
      "cell_type": "code",
      "source": [
        "reviews_serie = estate_df['number of reviews']\n",
        "min_reviews = reviews_serie.quantile(0)\n",
        "median_reviews = reviews_serie.quantile(0.5)\n",
        "average_reviews = reviews_serie.mean()\n",
        "max_reviews = reviews_serie.quantile(1)\n",
        "print(f'Min: {min_reviews} Median: {median_reviews} Average: {average_reviews} Max : {max_reviews}')"
      ],
      "metadata": {
        "colab": {
          "base_uri": "https://localhost:8080/"
        },
        "outputId": "06faa821-67fc-419c-e614-7fa9419fefc9",
        "id": "Jh1eRo11L-Bs"
      },
      "execution_count": 65,
      "outputs": [
        {
          "output_type": "stream",
          "name": "stdout",
          "text": [
            "Min: 0.0 Median: 7.0 Average: 27.453102209698063 Max : 1024.0\n"
          ]
        }
      ]
    },
    {
      "cell_type": "markdown",
      "source": [
        "NO pareciera que estos datos tuvieran algo muy raro que corregir"
      ],
      "metadata": {
        "id": "f_PXiSn9yEdk"
      }
    },
    {
      "cell_type": "code",
      "source": [
        "histogram('number of reviews', min_reviews, max_reviews, int(max_reviews), ylim= 4000)"
      ],
      "metadata": {
        "colab": {
          "base_uri": "https://localhost:8080/",
          "height": 544
        },
        "outputId": "b2829841-0fd6-419b-b151-a5ebb8e55095",
        "id": "Z_qIIUx3L-B1"
      },
      "execution_count": 66,
      "outputs": [
        {
          "output_type": "display_data",
          "data": {
            "text/plain": [
              "<Figure size 1080x648 with 1 Axes>"
            ],
            "image/png": "[encoded data removed]"
          },
          "metadata": {}
        }
      ]
    },
    {
      "cell_type": "markdown",
      "source": [
        "## Review Rate Number"
      ],
      "metadata": {
        "id": "rH_tQNrfSLHh"
      }
    },
    {
      "cell_type": "code",
      "source": [
        "rate_serie = estate_df['review rate number']\n",
        "min_rate = rate_serie.quantile(0)\n",
        "median_rate = rate_serie.quantile(0.5)\n",
        "average_rate = rate_serie.mean()\n",
        "max_rate = rate_serie.quantile(1)\n",
        "print(f'Min: {min_rate} Median: {median_rate} Average: {average_rate} Max : {max_rate}')"
      ],
      "metadata": {
        "colab": {
          "base_uri": "https://localhost:8080/"
        },
        "outputId": "3f9ec0bb-9bd2-4bf3-c12c-f1e6521ed1a1",
        "id": "cgGk715-MXY3"
      },
      "execution_count": 67,
      "outputs": [
        {
          "output_type": "stream",
          "name": "stdout",
          "text": [
            "Min: 1.0 Median: 3.0 Average: 3.278831128760961 Max : 5.0\n"
          ]
        }
      ]
    },
    {
      "cell_type": "code",
      "source": [
        "histogram('review rate number', min_rate, max_rate, 15)"
      ],
      "metadata": {
        "colab": {
          "base_uri": "https://localhost:8080/",
          "height": 540
        },
        "outputId": "844ca029-32e6-4a77-e0ec-016132311479",
        "id": "TzcSdc02MXY3"
      },
      "execution_count": 68,
      "outputs": [
        {
          "output_type": "display_data",
          "data": {
            "text/plain": [
              "<Figure size 1080x648 with 1 Axes>"
            ],
            "image/png": "[encoded data removed]"
          },
          "metadata": {}
        }
      ]
    },
    {
      "cell_type": "markdown",
      "source": [
        "Lo mismo, no pareciera que estos tuvieran datos muy raros\n"
      ],
      "metadata": {
        "id": "8EhRDtH9yN1k"
      }
    },
    {
      "cell_type": "markdown",
      "source": [
        "## Latitude"
      ],
      "metadata": {
        "id": "n0NeAYiLSQl8"
      }
    },
    {
      "cell_type": "code",
      "source": [
        "lat_serie = estate_df['lat']\n",
        "min_lat = lat_serie.quantile(0)\n",
        "median_lat = lat_serie.quantile(0.5)\n",
        "average_lat = lat_serie.mean()\n",
        "max_lat = lat_serie.quantile(1)\n",
        "print(f'Min: {min_lat} Median: {median_lat} Average: {average_lat} Max : {max_lat}')"
      ],
      "metadata": {
        "colab": {
          "base_uri": "https://localhost:8080/"
        },
        "outputId": "e28f531f-bb2f-423b-ac26-95c27a6af168",
        "id": "LippTkutM7BC"
      },
      "execution_count": 69,
      "outputs": [
        {
          "output_type": "stream",
          "name": "stdout",
          "text": [
            "Min: 40.49979 Median: 40.72226 Average: 40.728071930640525 Max : 40.91697\n"
          ]
        }
      ]
    },
    {
      "cell_type": "markdown",
      "source": [
        "El unico problema que se ve en este atributo son los nan, se reemplazaran con un valor cercano al promedio"
      ],
      "metadata": {
        "id": "U5kFFo5j7Zlg"
      }
    },
    {
      "cell_type": "code",
      "source": [
        "estate_df['lat'] = estate_df['lat'].fillna(40.70)\n",
        "new_estate_df['lat'] = new_estate_df['lat'].fillna(40.70)"
      ],
      "metadata": {
        "id": "QkykSGqF7jD0"
      },
      "execution_count": 70,
      "outputs": []
    },
    {
      "cell_type": "code",
      "source": [
        "histogram('lat', min_lat, max_lat, 100)"
      ],
      "metadata": {
        "colab": {
          "base_uri": "https://localhost:8080/",
          "height": 540
        },
        "outputId": "f9fdfdc6-b957-4233-a40a-56b6523afee2",
        "id": "EBi-vkMnM_n7"
      },
      "execution_count": 71,
      "outputs": [
        {
          "output_type": "display_data",
          "data": {
            "text/plain": [
              "<Figure size 1080x648 with 1 Axes>"
            ],
            "image/png": "[encoded data removed]"
          },
          "metadata": {}
        }
      ]
    },
    {
      "cell_type": "markdown",
      "source": [
        "## Longitude"
      ],
      "metadata": {
        "id": "ZENfub__STGf"
      }
    },
    {
      "cell_type": "code",
      "source": [
        "long_serie = estate_df['long']\n",
        "min_long = long_serie.quantile(0)\n",
        "median_long = long_serie.quantile(0.5)\n",
        "average_long = long_serie.mean()\n",
        "max_long = long_serie.quantile(1)\n",
        "print(f'Min: {min_long} Median: {median_long} Average: {average_long} Max : {max_long}')"
      ],
      "metadata": {
        "colab": {
          "base_uri": "https://localhost:8080/"
        },
        "outputId": "f57d2984-11a9-41be-c2e3-354c236f3fa5",
        "id": "tWPcDJ6PNx2k"
      },
      "execution_count": 72,
      "outputs": [
        {
          "output_type": "stream",
          "name": "stdout",
          "text": [
            "Min: -74.24984 Median: -73.95458 Average: -73.9498317017261 Max : -73.70522\n"
          ]
        }
      ]
    },
    {
      "cell_type": "markdown",
      "source": [
        "El unico problema que se ve en este atributo son los nan, se reemplazaran con un valor cercano al promedio"
      ],
      "metadata": {
        "id": "stAGXQAs71Eq"
      }
    },
    {
      "cell_type": "code",
      "source": [
        "estate_df['long'] = estate_df['long'].fillna(-73.95)\n",
        "new_estate_df['long'] = new_estate_df['long'].fillna(-73.95)"
      ],
      "metadata": {
        "id": "1h3SzknZ71Er"
      },
      "execution_count": 73,
      "outputs": []
    },
    {
      "cell_type": "code",
      "source": [
        "histogram('long', min_long, max_long, 100)"
      ],
      "metadata": {
        "colab": {
          "base_uri": "https://localhost:8080/",
          "height": 540
        },
        "outputId": "5dc70820-9b9b-432a-f4f3-6b1c200d8c4c",
        "id": "P5FyhXkoNx2s"
      },
      "execution_count": 74,
      "outputs": [
        {
          "output_type": "display_data",
          "data": {
            "text/plain": [
              "<Figure size 1080x648 with 1 Axes>"
            ],
            "image/png": "[encoded data removed]"
          },
          "metadata": {}
        }
      ]
    },
    {
      "cell_type": "markdown",
      "source": [
        "## instant_bookable"
      ],
      "metadata": {
        "id": "Pqe7B-euy-Ao"
      }
    },
    {
      "cell_type": "code",
      "source": [
        "instant_bookables = estate_df['instant_bookable'].unique()\n",
        "instant_bookables"
      ],
      "metadata": {
        "colab": {
          "base_uri": "https://localhost:8080/"
        },
        "outputId": "9d4177c5-1378-4f43-ddf4-296eb429b5d0",
        "id": "NdjHpYK4zKf3"
      },
      "execution_count": 75,
      "outputs": [
        {
          "output_type": "execute_result",
          "data": {
            "text/plain": [
              "array([True, False], dtype=object)"
            ]
          },
          "metadata": {},
          "execution_count": 75
        }
      ]
    },
    {
      "cell_type": "code",
      "source": [
        "instant_bookables_new = new_estate_df['instant_bookable'].unique()\n",
        "instant_bookables_new"
      ],
      "metadata": {
        "colab": {
          "base_uri": "https://localhost:8080/"
        },
        "outputId": "75abb1e2-9ad9-46a9-f2aa-6d5dd36af6d5",
        "id": "ELqADiMRzKf4"
      },
      "execution_count": 76,
      "outputs": [
        {
          "output_type": "execute_result",
          "data": {
            "text/plain": [
              "array([False, True], dtype=object)"
            ]
          },
          "metadata": {},
          "execution_count": 76
        }
      ]
    },
    {
      "cell_type": "markdown",
      "source": [
        "Esto se podria utilizar para entrenar el modelo, por lo que se reemplara los false con -1 y los true con 1"
      ],
      "metadata": {
        "id": "UYshPDCS2Re9"
      }
    },
    {
      "cell_type": "code",
      "source": [
        "estate_df['instant_bookable'] = estate_df['instant_bookable'].replace(False, -1)\n",
        "estate_df['instant_bookable'] = estate_df['instant_bookable'].replace(True, 1)\n",
        "\n",
        "new_estate_df['instant_bookable'] = new_estate_df['instant_bookable'].replace(False, -1)\n",
        "new_estate_df['instant_bookable'] = new_estate_df['instant_bookable'].replace(True, 1)"
      ],
      "metadata": {
        "id": "VWx6cG-92P8l"
      },
      "execution_count": 77,
      "outputs": []
    },
    {
      "cell_type": "markdown",
      "source": [
        "A simple vista no se ven problemas con esta columna"
      ],
      "metadata": {
        "id": "J1We-v_ZzKf4"
      }
    },
    {
      "cell_type": "markdown",
      "source": [
        "Profe se hizo lo que se pudo para poner grafiquitas y eso, pero es re largo, entonces la limpieza queda asi jejeje\n"
      ],
      "metadata": {
        "id": "0-BSt-qzyuHt"
      }
    },
    {
      "cell_type": "markdown",
      "source": [
        "# Model\n"
      ],
      "metadata": {
        "id": "2-jQmJ92SV3U"
      }
    },
    {
      "cell_type": "markdown",
      "source": [
        "Para crear el modelo lo primero que se observa es que queremos predecir la cantidad de reviews que tiene un inmueble, posteriormente definiremos el primer set de feature que seran, el año, el precio, los servicios, la disponibilidad y si es reservable al momento o no. "
      ],
      "metadata": {
        "id": "wkTjpkUO-Bzs"
      }
    },
    {
      "cell_type": "markdown",
      "source": [
        "## Feature Defining"
      ],
      "metadata": {
        "id": "u-fDpoTKScoK"
      }
    },
    {
      "cell_type": "code",
      "execution_count": 78,
      "metadata": {
        "id": "qjwHfW_PzeeW"
      },
      "outputs": [],
      "source": [
        "features = ['construction year', 'price', 'service fee', 'availability 365', 'instant_bookable']"
      ]
    },
    {
      "cell_type": "markdown",
      "metadata": {
        "id": "B2H8Ml6ezeeW"
      },
      "source": [
        "## Splitting train and test datasets"
      ]
    },
    {
      "cell_type": "code",
      "execution_count": 79,
      "metadata": {
        "id": "j_Fq86W0zeeW"
      },
      "outputs": [],
      "source": [
        "X = estate_df[features]\n",
        "Y = estate_df['number of reviews']"
      ]
    },
    {
      "cell_type": "code",
      "execution_count": 80,
      "metadata": {
        "id": "svgn7fHjzeeX"
      },
      "outputs": [],
      "source": [
        "X_train, X_test, Y_train, Y_test = train_test_split(X, Y, test_size = 0.2, random_state = 1)"
      ]
    },
    {
      "cell_type": "code",
      "execution_count": 81,
      "metadata": {
        "colab": {
          "base_uri": "https://localhost:8080/"
        },
        "id": "eMpz_fRazeeX",
        "outputId": "0ef02be3-176a-44a0-84c6-02273ea23e79"
      },
      "outputs": [
        {
          "output_type": "execute_result",
          "data": {
            "text/plain": [
              "(80626, 5)"
            ]
          },
          "metadata": {},
          "execution_count": 81
        }
      ],
      "source": [
        "X_train.shape"
      ]
    },
    {
      "cell_type": "code",
      "execution_count": 82,
      "metadata": {
        "colab": {
          "base_uri": "https://localhost:8080/"
        },
        "id": "QGb4h2oPzeeX",
        "outputId": "f0604fa4-3026-4a7b-fb85-b5a01a0cd4b6"
      },
      "outputs": [
        {
          "output_type": "execute_result",
          "data": {
            "text/plain": [
              "(20157, 5)"
            ]
          },
          "metadata": {},
          "execution_count": 82
        }
      ],
      "source": [
        "X_test.shape"
      ]
    },
    {
      "cell_type": "markdown",
      "metadata": {
        "id": "2tTC3MGkzeeY"
      },
      "source": [
        "### Training the model"
      ]
    },
    {
      "cell_type": "markdown",
      "source": [
        "Para iniciar se utilizara un modelo de regresión lineal con los parametros por defecto."
      ],
      "metadata": {
        "id": "Pb_vwAfa_d_Y"
      }
    },
    {
      "cell_type": "code",
      "execution_count": 83,
      "metadata": {
        "id": "vgCkRiY8zeeY"
      },
      "outputs": [],
      "source": [
        "regr = LinearRegression()"
      ]
    },
    {
      "cell_type": "code",
      "execution_count": 84,
      "metadata": {
        "colab": {
          "base_uri": "https://localhost:8080/"
        },
        "id": "RmeEyPmyzeeY",
        "outputId": "12ec9c8d-b1f3-4792-ad83-545f7e0c2777"
      },
      "outputs": [
        {
          "output_type": "execute_result",
          "data": {
            "text/plain": [
              "LinearRegression()"
            ]
          },
          "metadata": {},
          "execution_count": 84
        }
      ],
      "source": [
        "regr.fit(X_train, Y_train)"
      ]
    },
    {
      "cell_type": "code",
      "execution_count": 85,
      "metadata": {
        "colab": {
          "base_uri": "https://localhost:8080/"
        },
        "id": "lElIn_c3zeeZ",
        "outputId": "3b52e8a9-5b9c-4ca4-f3b5-ccc6a8e53abf"
      },
      "outputs": [
        {
          "output_type": "execute_result",
          "data": {
            "text/plain": [
              "array([0.01777423, 0.00028129, 0.0031794 , 0.03526555, 0.15053171])"
            ]
          },
          "metadata": {},
          "execution_count": 85
        }
      ],
      "source": [
        "regr.coef_"
      ]
    },
    {
      "cell_type": "code",
      "execution_count": 86,
      "metadata": {
        "colab": {
          "base_uri": "https://localhost:8080/"
        },
        "id": "W8AWmViJzeeZ",
        "outputId": "52516aae-8652-4741-a288-586483f9f2c9"
      },
      "outputs": [
        {
          "output_type": "execute_result",
          "data": {
            "text/plain": [
              "-13.699987289282188"
            ]
          },
          "metadata": {},
          "execution_count": 86
        }
      ],
      "source": [
        "regr.intercept_"
      ]
    },
    {
      "cell_type": "code",
      "execution_count": 87,
      "metadata": {
        "id": "6UFdCz_xzeeZ"
      },
      "outputs": [],
      "source": [
        "preds_train = regr.predict(X_train)\n",
        "preds_test = regr.predict(X_test)"
      ]
    },
    {
      "cell_type": "code",
      "execution_count": 88,
      "metadata": {
        "colab": {
          "base_uri": "https://localhost:8080/"
        },
        "id": "N4LttmpXzeeZ",
        "outputId": "d1a3016a-8a42-4f9b-ca2c-5e710cb68ae7"
      },
      "outputs": [
        {
          "output_type": "execute_result",
          "data": {
            "text/plain": [
              "(49.480020312277, 48.57442056388855)"
            ]
          },
          "metadata": {},
          "execution_count": 88
        }
      ],
      "source": [
        "np.sqrt(mean_squared_error(Y_train, preds_train)), np.sqrt(mean_squared_error(Y_test, preds_test))"
      ]
    },
    {
      "cell_type": "markdown",
      "source": [
        "Aqui podemos ver que tenemos un error muy alto puesto que los valores de la variable objetivo tiene un promedio de 27, por lo que equivocarnos en 50 seria catastrofico para el negocio."
      ],
      "metadata": {
        "id": "QDV0CiJv_pVS"
      }
    },
    {
      "cell_type": "markdown",
      "metadata": {
        "id": "iBrLVxOmCBA3"
      },
      "source": [
        "## Polynomial Transformation"
      ]
    },
    {
      "cell_type": "markdown",
      "source": [
        "Buscando mejorar el modelo anterior transformaremos los datos de manera polinomial y se hara una regresión sobre esos modelos(Lo que seria equivalente a hacer un modelo polinomial) \n",
        "Se escogio una transformación polinomial de grado 5 para probar"
      ],
      "metadata": {
        "id": "rkJ76J-3AJw2"
      }
    },
    {
      "cell_type": "code",
      "execution_count": 89,
      "metadata": {
        "colab": {
          "base_uri": "https://localhost:8080/"
        },
        "id": "zDljpsPT9NnO",
        "outputId": "83a6bb21-d9f0-4f96-a4de-0c827dc05a67"
      },
      "outputs": [
        {
          "output_type": "execute_result",
          "data": {
            "text/plain": [
              "LinearRegression()"
            ]
          },
          "metadata": {},
          "execution_count": 89
        }
      ],
      "source": [
        "from sklearn.preprocessing import PolynomialFeatures\n",
        "\n",
        "X_poly_5 = PolynomialFeatures(degree=5, include_bias=False).fit_transform(X)\n",
        "regr_poly_5 = LinearRegression()\n",
        "\n",
        "X_train_poly_5, X_test_poly_5, Y_train_poly_5, Y_test_poly_5 = train_test_split(X_poly_5, Y, test_size = 0.2, random_state = 1)\n",
        "\n",
        "regr_poly_5.fit(X_train_poly_5, Y_train_poly_5)"
      ]
    },
    {
      "cell_type": "code",
      "execution_count": 90,
      "metadata": {
        "colab": {
          "base_uri": "https://localhost:8080/"
        },
        "id": "ch2o_Yk2A4KT",
        "outputId": "bfdeecf5-1a16-43c2-9f71-db1c13fd5cca"
      },
      "outputs": [
        {
          "output_type": "execute_result",
          "data": {
            "text/plain": [
              "array([ 5.17267101e-11, -1.32899481e-05, -2.94149152e-06, -6.37639956e-06,\n",
              "       -2.29581291e-06, -3.10264950e-03, -5.73001375e-03, -1.32045113e-03,\n",
              "       -2.02641223e-03,  1.72298174e-05, -5.53620464e-03, -1.11404887e-03,\n",
              "       -9.82741414e-04, -3.08555605e-05, -2.40828008e-04, -2.06518779e-04,\n",
              "        1.83257193e-06, -1.43679852e-04, -1.62335025e-04,  2.26052197e-06,\n",
              "       -9.66026807e-06,  2.40953864e-04, -9.42664226e-06, -3.90510222e-04,\n",
              "        9.27069114e-03, -9.53239406e-04, -5.46151634e-04, -1.63554676e-03,\n",
              "       -1.99495212e-02,  1.08124441e-03,  2.70619306e-03,  1.12538052e-03,\n",
              "        9.66213294e-03, -1.07831315e-01, -5.24211230e-06,  1.01517181e-03,\n",
              "        1.42792176e-03,  1.23702739e-02, -1.43669295e-02, -1.42716098e-03,\n",
              "       -4.78224167e-02, -2.82795810e-03,  3.44582607e-04, -2.34824684e-02,\n",
              "       -1.26451592e-05,  3.94253283e-03, -5.86117897e-02, -9.62841585e-06,\n",
              "        2.70734121e-02, -6.57742217e-03, -3.41619304e-06, -4.43503199e-02,\n",
              "       -1.80824169e-02, -5.14234054e-06, -4.03091930e-07,  2.17682218e-08,\n",
              "       -4.67918714e-07,  1.48789189e-08,  7.81877912e-07, -1.84554064e-05,\n",
              "        1.84932108e-06,  1.23437225e-06,  3.20045452e-06,  4.18555884e-05,\n",
              "       -1.89325437e-06, -5.19618319e-06, -1.11749063e-05, -1.92435355e-05,\n",
              "        2.13613994e-04, -3.10111915e-03, -1.81167831e-06, -5.35924550e-07,\n",
              "       -2.39805537e-05,  4.05036167e-06, -1.21187123e-05,  9.27777059e-05,\n",
              "        9.25737616e-05, -5.03574491e-07,  3.52813213e-05, -5.73126696e-03,\n",
              "       -1.09278535e-05,  1.13531841e-04,  1.38808691e-04, -5.40267671e-05,\n",
              "        8.19361160e-05, -1.31993655e-03,  8.83157346e-05,  4.27934636e-05,\n",
              "       -2.02683187e-03,  1.91028053e-05, -2.13241967e-07,  6.50123371e-06,\n",
              "       -1.01978323e-06,  4.61979190e-05, -9.05647156e-05, -8.37479498e-07,\n",
              "       -6.26340856e-04, -8.99121826e-07, -2.22225384e-06, -5.53721705e-03,\n",
              "        3.09773438e-04,  2.67428215e-05,  2.11329913e-03,  3.33701135e-06,\n",
              "        1.40371300e-04, -1.11594795e-03, -2.09455365e-07, -1.19523288e-05,\n",
              "       -9.85432913e-04, -3.35601408e-05,  1.07212733e-05,  1.07226632e-05,\n",
              "       -5.03168895e-04,  3.96736809e-06, -5.19329946e-04, -2.40394622e-04,\n",
              "       -9.10451003e-07, -7.84791977e-05, -2.04517463e-04,  8.99585935e-07,\n",
              "       -9.68054756e-08, -5.91335011e-06, -1.43424887e-04, -1.62155021e-04,\n",
              "       -5.87217052e-11, -5.54217406e-12,  1.14847137e-10, -2.45174264e-12,\n",
              "       -1.95065153e-10,  4.59194831e-09, -4.46774381e-10, -3.43465343e-10,\n",
              "       -7.82493604e-10, -1.09303577e-08,  4.08102344e-10,  1.24603674e-09,\n",
              "        4.95028285e-09,  4.78895632e-09, -5.28974393e-08, -9.25174199e-06,\n",
              "        3.99817656e-10, -4.29609889e-10,  5.80715575e-09,  4.96048709e-09,\n",
              "        6.67601725e-09, -2.24840196e-08, -4.46752935e-08,  8.12515719e-11,\n",
              "       -6.00902227e-09,  2.41307347e-04,  3.45835367e-09, -2.74790378e-08,\n",
              "       -6.67363958e-08,  1.34699418e-08, -3.70620713e-08, -9.33234870e-06,\n",
              "       -2.19588820e-08, -1.22852457e-08, -3.90709624e-04,  9.27140340e-03,\n",
              "        1.04479547e-10, -3.23316371e-09,  5.06337410e-10, -2.26393227e-08,\n",
              "        4.48005660e-08,  4.14300182e-10,  3.07447046e-07,  4.50675021e-10,\n",
              "        1.06593088e-09, -9.53946509e-04, -1.52782607e-07, -1.32826027e-08,\n",
              "       -1.03040111e-06, -1.68315399e-09, -6.85002566e-08, -5.45720985e-04,\n",
              "        1.01043276e-10,  6.08997767e-09, -1.63551064e-03, -1.99496388e-02,\n",
              "       -5.11630678e-09, -5.30361029e-09,  2.22240858e-07, -1.90331617e-09,\n",
              "        2.52694197e-07,  1.08096211e-03,  4.74273947e-10,  3.78901080e-08,\n",
              "        2.70740099e-03,  1.12506231e-03, -8.57700352e-11,  2.59388637e-09,\n",
              "        9.66181141e-03, -1.07833309e-01, -3.58221269e-06,  1.20465682e-12,\n",
              "       -1.25250288e-10,  1.10226845e-12, -2.75652370e-10,  1.53404893e-09,\n",
              "        5.17768548e-11, -1.59931127e-08, -5.75055498e-12,  4.87986524e-10,\n",
              "        1.01404761e-03, -4.61802055e-09, -6.36675108e-10,  2.13596741e-07,\n",
              "        1.45576665e-10, -1.00249609e-08,  1.42847884e-03, -6.17519447e-12,\n",
              "       -1.37240669e-11,  1.23703575e-02, -1.43663181e-02,  3.80390465e-11,\n",
              "        1.82824979e-09, -6.69714164e-07, -6.05224252e-10,  3.38641897e-08,\n",
              "       -1.42747235e-03,  6.07640781e-11,  2.11605170e-11, -4.78218028e-02,\n",
              "       -2.82868599e-03, -1.98073329e-12, -5.47311544e-10,  3.43342708e-04,\n",
              "       -2.34822555e-02, -1.32692422e-05, -6.71886902e-10,  4.21874951e-11,\n",
              "        1.07465946e-07, -1.65017521e-10,  1.87512714e-08,  3.94268186e-03,\n",
              "       -1.10003129e-10,  5.99819199e-09, -5.86120172e-02, -9.73523956e-06,\n",
              "       -3.50300557e-11,  7.71147826e-10,  2.70733652e-02, -6.57757255e-03,\n",
              "       -3.00678805e-06,  2.70424411e-10,  1.16059557e-09, -4.43500128e-02,\n",
              "       -1.80822909e-02, -4.72252559e-06,  2.67168223e-08])"
            ]
          },
          "metadata": {},
          "execution_count": 90
        }
      ],
      "source": [
        "regr_poly_5.coef_"
      ]
    },
    {
      "cell_type": "code",
      "execution_count": 91,
      "metadata": {
        "colab": {
          "base_uri": "https://localhost:8080/"
        },
        "id": "i-r7NemMA88I",
        "outputId": "0476024e-ca70-49c8-bd86-f534d03fc44a"
      },
      "outputs": [
        {
          "output_type": "execute_result",
          "data": {
            "text/plain": [
              "5167.560108908491"
            ]
          },
          "metadata": {},
          "execution_count": 91
        }
      ],
      "source": [
        "regr_poly_5.intercept_"
      ]
    },
    {
      "cell_type": "code",
      "execution_count": 92,
      "metadata": {
        "id": "QC2wUdWoBBJW"
      },
      "outputs": [],
      "source": [
        "preds_train_poly_5 = regr_poly_5.predict(X_train_poly_5)\n",
        "preds_test_poly_5 = regr_poly_5.predict(X_test_poly_5)"
      ]
    },
    {
      "cell_type": "code",
      "execution_count": 93,
      "metadata": {
        "colab": {
          "base_uri": "https://localhost:8080/"
        },
        "id": "T9Kd8tERBE4k",
        "outputId": "a57771b6-de83-4d25-c7aa-5b47bea60a3d"
      },
      "outputs": [
        {
          "output_type": "execute_result",
          "data": {
            "text/plain": [
              "(48.67679541285443, 47.92460298329946)"
            ]
          },
          "metadata": {},
          "execution_count": 93
        }
      ],
      "source": [
        "np.sqrt(mean_squared_error(Y_train_poly_5, preds_train_poly_5)), np.sqrt(mean_squared_error(Y_test_poly_5, preds_test_poly_5))"
      ]
    },
    {
      "cell_type": "markdown",
      "source": [
        "Tanto el error de training como de testing disminuyeron, pero demasiado poco, Aunque se puede considerar este el mejor modelo hasta ahora."
      ],
      "metadata": {
        "id": "LVODB_vhBEtv"
      }
    },
    {
      "cell_type": "markdown",
      "metadata": {
        "id": "WEQmBrsEMyPO"
      },
      "source": [
        "## Regularización L1 y L2"
      ]
    },
    {
      "cell_type": "markdown",
      "source": [
        "Se probara otro modelo de regresión lineal que es una combinación de regularización L1 y L2 conocido como ElasticNet."
      ],
      "metadata": {
        "id": "_8YfbzTKBXtU"
      }
    },
    {
      "cell_type": "code",
      "execution_count": 94,
      "metadata": {
        "colab": {
          "base_uri": "https://localhost:8080/"
        },
        "id": "Ed5pCZn8Hxty",
        "outputId": "6b73f256-a0e0-40de-c493-15a31851d951"
      },
      "outputs": [
        {
          "output_type": "stream",
          "name": "stderr",
          "text": [
            "/usr/local/lib/python3.7/dist-packages/sklearn/linear_model/_coordinate_descent.py:648: ConvergenceWarning: Objective did not converge. You might want to increase the number of iterations, check the scale of the features or consider increasing regularisation. Duality gap: 9.605e+07, tolerance: 1.992e+04\n",
            "  coef_, l1_reg, l2_reg, X, y, max_iter, tol, rng, random, positive\n"
          ]
        },
        {
          "output_type": "execute_result",
          "data": {
            "text/plain": [
              "ElasticNet()"
            ]
          },
          "metadata": {},
          "execution_count": 94
        }
      ],
      "source": [
        "X_train_poly_L1_1, X_test_poly_L1_1, Y_train_poly_L1_1, Y_test_poly_L1_1 = train_test_split(X_poly_5, Y, test_size = 0.2, random_state = 1)\n",
        "\n",
        "regr_poly_L1_1 = ElasticNet()\n",
        "\n",
        "regr_poly_L1_1.fit(X_train_poly_L1_1, Y_train_poly_L1_1)"
      ]
    },
    {
      "cell_type": "code",
      "execution_count": 95,
      "metadata": {
        "colab": {
          "base_uri": "https://localhost:8080/"
        },
        "id": "HYgrIpcpK2eU",
        "outputId": "2ab58457-68e4-4571-fe65-0eadeb901135"
      },
      "outputs": [
        {
          "output_type": "execute_result",
          "data": {
            "text/plain": [
              "array([ 0.00000000e+00, -0.00000000e+00,  0.00000000e+00, -6.07178282e-08,\n",
              "        0.00000000e+00,  4.75796730e-06,  2.02107558e-06,  1.49704713e-05,\n",
              "        1.31153690e-05,  1.61774138e-05, -3.36333956e-06, -6.91454861e-06,\n",
              "       -3.37234838e-05,  1.11693937e-04, -6.64837321e-05, -7.00207302e-05,\n",
              "        0.00000000e+00, -5.23544001e-04,  0.00000000e+00,  0.00000000e+00,\n",
              "       -1.24782780e-09,  2.25229982e-09,  5.74869270e-09,  4.92211827e-08,\n",
              "       -1.22927530e-07, -1.62802808e-09, -3.56866471e-09, -1.33668695e-08,\n",
              "        8.67514923e-07, -3.34775504e-08, -3.63947312e-08,  1.73518952e-06,\n",
              "       -2.46857008e-07, -1.56758031e-06, -0.00000000e+00,  9.23325112e-09,\n",
              "        1.71080795e-09,  9.28190870e-08, -5.92768095e-07, -3.43533329e-07,\n",
              "        2.36904361e-07,  2.21490568e-06, -1.09869789e-07, -1.06245270e-05,\n",
              "       -7.83930307e-05,  1.64743352e-07,  1.23452849e-06, -2.65754341e-05,\n",
              "       -5.27243573e-07,  5.81799495e-05, -0.00000000e+00,  1.45597410e-06,\n",
              "        3.55662998e-07, -3.02346838e-04,  0.00000000e+00,  4.71443371e-13,\n",
              "       -8.80318190e-14, -2.30426912e-12, -5.27491153e-13, -1.29979694e-10,\n",
              "       -7.83934413e-13, -1.73002194e-12, -1.00491301e-11,  4.23456078e-10,\n",
              "       -2.34649843e-11, -1.91128976e-11,  1.09494797e-10, -1.21158234e-10,\n",
              "       -8.81716175e-10, -3.49126644e-06,  5.34567665e-12,  8.77493903e-13,\n",
              "        3.88663480e-11, -1.48010261e-11, -1.43631081e-10,  1.04388882e-10,\n",
              "        1.15953371e-09, -4.99492292e-11, -5.71661481e-09, -9.74117715e-07,\n",
              "        3.45743972e-11,  6.09559452e-10, -1.80722807e-08, -2.54938094e-10,\n",
              "        2.38660116e-08,  4.15279378e-06,  7.24139720e-10,  3.00042930e-09,\n",
              "        4.70926348e-06,  3.53711754e-04, -3.80668900e-12,  1.10191403e-11,\n",
              "       -1.93321001e-10,  7.54687757e-09,  7.27455670e-10, -3.32164770e-10,\n",
              "       -9.92289119e-10, -3.70455086e-11, -2.35133704e-08,  9.09688706e-06,\n",
              "        1.34842270e-10, -5.30719160e-10,  7.05806988e-08, -5.60479497e-10,\n",
              "       -2.64583519e-08,  2.30723252e-05,  5.90243129e-10,  7.49606014e-09,\n",
              "        4.56215863e-05, -2.52047787e-04, -3.26245461e-10, -7.33565111e-09,\n",
              "       -3.28085779e-07, -3.99275346e-09, -1.65506520e-07,  3.09069579e-04,\n",
              "        2.04173687e-09, -1.00822736e-07,  1.73792618e-04,  0.00000000e+00,\n",
              "       -1.39441233e-09,  9.33323852e-08, -3.35222737e-04,  0.00000000e+00,\n",
              "        0.00000000e+00, -7.23302071e-18, -5.85418391e-16, -2.50202593e-15,\n",
              "        1.16458462e-14, -7.88584583e-14, -3.81249196e-16, -9.15790530e-16,\n",
              "       -1.95219386e-15, -1.25724872e-14, -1.23936175e-14, -3.67542878e-15,\n",
              "        9.38488099e-13, -6.32528557e-14, -4.68628574e-13,  9.95719226e-11,\n",
              "        1.48739838e-15,  2.77945319e-16,  2.63118681e-14, -5.06512804e-13,\n",
              "       -9.72473930e-14,  6.34554358e-14,  6.41614132e-13, -2.94762387e-14,\n",
              "       -1.36301100e-12, -4.29295000e-10,  1.51806181e-14,  3.63685052e-13,\n",
              "       -4.81502992e-12, -1.22824207e-13,  1.14994993e-11,  1.57609578e-10,\n",
              "        3.42215145e-13,  1.27519724e-13, -1.05566911e-09,  2.42713624e-07,\n",
              "       -2.36256713e-15,  5.12895433e-15, -7.73459816e-14,  2.62748220e-12,\n",
              "        2.92096973e-13, -1.29945371e-13, -2.59252009e-13, -1.31679707e-14,\n",
              "       -8.32930262e-12,  3.59720231e-09,  3.76426245e-14, -2.22970244e-13,\n",
              "        2.17465660e-11, -2.65508897e-13, -4.24542376e-12,  1.08212231e-08,\n",
              "        2.77947029e-13,  3.09806026e-12,  1.59488486e-08, -1.15908696e-06,\n",
              "       -2.75835346e-13, -2.79843376e-12, -7.49612897e-11, -1.66964851e-12,\n",
              "       -7.56037193e-11,  1.20418328e-07,  1.11758202e-12, -4.71583494e-11,\n",
              "        5.11796029e-08,  1.07964072e-05, -6.46130081e-13,  3.24596175e-12,\n",
              "       -1.74830325e-07,  2.07194103e-06, -0.00000000e+00, -1.24922667e-14,\n",
              "        1.80613246e-14,  1.70256691e-13, -3.04537683e-12, -6.09708443e-13,\n",
              "        3.62570043e-13,  1.20912672e-12,  1.02265849e-13,  1.87922709e-11,\n",
              "       -1.99249342e-08,  8.76757375e-13,  2.44999919e-13, -1.03613459e-10,\n",
              "       -3.44240272e-13,  1.02816328e-10, -2.12341950e-08,  1.04843469e-12,\n",
              "        6.74734136e-11, -1.08261092e-07, -6.72037603e-06,  5.78252632e-12,\n",
              "        8.43168212e-13,  1.79449158e-10, -2.15591119e-12, -1.16087762e-10,\n",
              "       -5.25042767e-08,  2.12457439e-12,  8.12764942e-10, -1.11771941e-07,\n",
              "       -3.13004860e-05, -4.18264127e-12, -5.20966765e-10,  3.13612002e-07,\n",
              "        1.80125039e-05, -0.00000000e+00, -2.07810275e-12,  3.54820214e-11,\n",
              "       -4.58359371e-10, -4.87725287e-12, -7.30293277e-10, -1.09785078e-06,\n",
              "        2.36883844e-11, -9.13589815e-10, -1.65080187e-06,  8.63778164e-05,\n",
              "       -1.63735727e-11, -7.89875159e-11,  1.15785007e-06,  7.37672283e-05,\n",
              "        0.00000000e+00, -6.52952890e-12,  1.80624737e-10,  2.17525359e-06,\n",
              "       -1.99152145e-05, -5.27588420e-04,  0.00000000e+00])"
            ]
          },
          "metadata": {},
          "execution_count": 95
        }
      ],
      "source": [
        "regr_poly_L1_1.coef_"
      ]
    },
    {
      "cell_type": "code",
      "execution_count": 96,
      "metadata": {
        "colab": {
          "base_uri": "https://localhost:8080/"
        },
        "id": "VfP6cpsoK8Hs",
        "outputId": "4966b0ff-55d5-4d78-bbed-bf63436e3cda"
      },
      "outputs": [
        {
          "output_type": "execute_result",
          "data": {
            "text/plain": [
              "11.717854761334452"
            ]
          },
          "metadata": {},
          "execution_count": 96
        }
      ],
      "source": [
        "regr_poly_L1_1.intercept_"
      ]
    },
    {
      "cell_type": "code",
      "execution_count": 97,
      "metadata": {
        "id": "9A7eL97DLILE"
      },
      "outputs": [],
      "source": [
        "preds_train_poly_L1_1 = regr_poly_L1_1.predict(X_train_poly_L1_1)\n",
        "preds_test_poly_L1_1 = regr_poly_L1_1.predict(X_test_poly_L1_1)"
      ]
    },
    {
      "cell_type": "code",
      "execution_count": 98,
      "metadata": {
        "colab": {
          "base_uri": "https://localhost:8080/"
        },
        "id": "91gTZuTvLYY6",
        "outputId": "ad060ee8-0e9e-4ff7-c275-ddb2010c1dac"
      },
      "outputs": [
        {
          "output_type": "execute_result",
          "data": {
            "text/plain": [
              "(48.811495652503645, 47.93807394878969)"
            ]
          },
          "metadata": {},
          "execution_count": 98
        }
      ],
      "source": [
        "np.sqrt(mean_squared_error(Y_train_poly_L1_1, preds_train_poly_L1_1)), np.sqrt(mean_squared_error(Y_test_poly_L1_1, preds_test_poly_L1_1))"
      ]
    },
    {
      "cell_type": "markdown",
      "source": [
        "Tampoco se encontro que el modelo mejorara utilizando este modelo, por el contrario empeoro un poco comparado con el modelo polinomial unicamente"
      ],
      "metadata": {
        "id": "kerB4jz7Bvbb"
      }
    },
    {
      "cell_type": "markdown",
      "source": [
        "## Feature Defining"
      ],
      "metadata": {
        "id": "jbRRiapJ6x3M"
      }
    },
    {
      "cell_type": "markdown",
      "source": [
        "Como ultimo intento para mejorar el primer modelo que fue el que mejores resultados obtuvo se decidio que lo mejor era seguir utilizando un modelo lineal pero agregando mas features, se dicidio añadir el grupo de vecindarios, la latitud y la longitud del inmueble."
      ],
      "metadata": {
        "id": "jUhCS3jnB_Rf"
      }
    },
    {
      "cell_type": "code",
      "execution_count": 99,
      "metadata": {
        "id": "dviVtT_T6x3M"
      },
      "outputs": [],
      "source": [
        "features2 = ['construction year', 'price', 'service fee', 'availability 365', 'instant_bookable', 'neighbourhood group', 'lat', 'long', 'cancellation_policy', 'room type']"
      ]
    },
    {
      "cell_type": "markdown",
      "metadata": {
        "id": "5WPR731q6x3M"
      },
      "source": [
        "## Splitting train and test datasets"
      ]
    },
    {
      "cell_type": "code",
      "execution_count": 100,
      "metadata": {
        "id": "51WXynKX6x3M"
      },
      "outputs": [],
      "source": [
        "X2 = estate_df[features2]\n",
        "Y2 = estate_df['number of reviews']"
      ]
    },
    {
      "cell_type": "code",
      "execution_count": 101,
      "metadata": {
        "id": "PF-A-7NV6x3M"
      },
      "outputs": [],
      "source": [
        "X_train2, X_test2, Y_train2, Y_test2 = train_test_split(X2, Y2, test_size = 0.2, random_state = 1)"
      ]
    },
    {
      "cell_type": "code",
      "execution_count": 102,
      "metadata": {
        "colab": {
          "base_uri": "https://localhost:8080/"
        },
        "outputId": "aa951b6b-9f1f-41a6-c150-5408d6951999",
        "id": "tb4FJXkb6x3N"
      },
      "outputs": [
        {
          "output_type": "execute_result",
          "data": {
            "text/plain": [
              "(80626, 10)"
            ]
          },
          "metadata": {},
          "execution_count": 102
        }
      ],
      "source": [
        "X_train2.shape"
      ]
    },
    {
      "cell_type": "code",
      "execution_count": 103,
      "metadata": {
        "colab": {
          "base_uri": "https://localhost:8080/"
        },
        "outputId": "74347e6a-67d6-4213-f226-588b31b7e5ad",
        "id": "BjzXPcKs6x3N"
      },
      "outputs": [
        {
          "output_type": "execute_result",
          "data": {
            "text/plain": [
              "(20157, 10)"
            ]
          },
          "metadata": {},
          "execution_count": 103
        }
      ],
      "source": [
        "X_test2.shape"
      ]
    },
    {
      "cell_type": "markdown",
      "metadata": {
        "id": "WVP1hw1O6x3N"
      },
      "source": [
        "### Training the model"
      ]
    },
    {
      "cell_type": "markdown",
      "source": [
        "Se probara primero en un modelo lineal"
      ],
      "metadata": {
        "id": "HDKdBWG1s1Bn"
      }
    },
    {
      "cell_type": "code",
      "execution_count": 104,
      "metadata": {
        "id": "k3nUNbgW6x3N"
      },
      "outputs": [],
      "source": [
        "regr2 = LinearRegression()"
      ]
    },
    {
      "cell_type": "code",
      "execution_count": 105,
      "metadata": {
        "colab": {
          "base_uri": "https://localhost:8080/"
        },
        "outputId": "d20d22a8-a8b0-4b77-8980-3ad828d1eb28",
        "id": "A6ABZWUi6x3N"
      },
      "outputs": [
        {
          "output_type": "execute_result",
          "data": {
            "text/plain": [
              "LinearRegression()"
            ]
          },
          "metadata": {},
          "execution_count": 105
        }
      ],
      "source": [
        "regr2.fit(X_train2, Y_train2)"
      ]
    },
    {
      "cell_type": "code",
      "execution_count": 106,
      "metadata": {
        "colab": {
          "base_uri": "https://localhost:8080/"
        },
        "outputId": "3b617f4a-3c60-4da7-f983-9d7837ad4d8a",
        "id": "deMK6F7m6x3N"
      },
      "outputs": [
        {
          "output_type": "execute_result",
          "data": {
            "text/plain": [
              "array([ 1.72529666e-02,  2.93496473e-04,  2.88356179e-03,  3.34500513e-02,\n",
              "        1.83743713e-01,  1.82216320e+00, -1.54058501e+01,  4.98174362e+01,\n",
              "       -4.11605534e-02, -5.39654845e-01])"
            ]
          },
          "metadata": {},
          "execution_count": 106
        }
      ],
      "source": [
        "regr2.coef_"
      ]
    },
    {
      "cell_type": "code",
      "execution_count": 107,
      "metadata": {
        "colab": {
          "base_uri": "https://localhost:8080/"
        },
        "outputId": "9a064f36-eb67-4eac-e7f7-62bdf49524a5",
        "id": "wUZD3aNb6x3O"
      },
      "outputs": [
        {
          "output_type": "execute_result",
          "data": {
            "text/plain": [
              "4298.1806480566065"
            ]
          },
          "metadata": {},
          "execution_count": 107
        }
      ],
      "source": [
        "regr2.intercept_"
      ]
    },
    {
      "cell_type": "code",
      "execution_count": 108,
      "metadata": {
        "id": "EYQVzD4l6x3O"
      },
      "outputs": [],
      "source": [
        "preds_train2 = regr2.predict(X_train2)\n",
        "preds_test2 = regr2.predict(X_test2)"
      ]
    },
    {
      "cell_type": "code",
      "execution_count": 109,
      "metadata": {
        "colab": {
          "base_uri": "https://localhost:8080/"
        },
        "outputId": "1ac447a2-be71-45e1-b6c3-a1ec13e75f4b",
        "id": "Vq18VVhh6x3O"
      },
      "outputs": [
        {
          "output_type": "execute_result",
          "data": {
            "text/plain": [
              "(49.33638281125682, 48.39444767739808)"
            ]
          },
          "metadata": {},
          "execution_count": 109
        }
      ],
      "source": [
        "np.sqrt(mean_squared_error(Y_train2, preds_train2)), np.sqrt(mean_squared_error(Y_test2, preds_test2))"
      ]
    },
    {
      "cell_type": "markdown",
      "source": [
        "Todavia no se puede encontrar una mejora significativa."
      ],
      "metadata": {
        "id": "NA77h6e8Cvqb"
      }
    },
    {
      "cell_type": "markdown",
      "metadata": {
        "id": "riZKx8xb87oM"
      },
      "source": [
        "## Polynomial Transformation"
      ]
    },
    {
      "cell_type": "markdown",
      "source": [
        "Cómo ultimo intento se correra un modelo polinomial de grado 3 sobre ElasticNet para evitar overfittinng."
      ],
      "metadata": {
        "id": "WsuksaJIENM3"
      }
    },
    {
      "cell_type": "code",
      "execution_count": 134,
      "metadata": {
        "colab": {
          "base_uri": "https://localhost:8080/"
        },
        "outputId": "bdaa5e24-6fba-408a-c728-5e753f215b98",
        "id": "A1ynQ3yC87oV"
      },
      "outputs": [
        {
          "output_type": "stream",
          "name": "stderr",
          "text": [
            "/usr/local/lib/python3.7/dist-packages/sklearn/linear_model/_coordinate_descent.py:648: ConvergenceWarning: Objective did not converge. You might want to increase the number of iterations, check the scale of the features or consider increasing regularisation. Duality gap: 9.499e+07, tolerance: 1.992e+04\n",
            "  coef_, l1_reg, l2_reg, X, y, max_iter, tol, rng, random, positive\n"
          ]
        },
        {
          "output_type": "execute_result",
          "data": {
            "text/plain": [
              "ElasticNet(max_iter=10000)"
            ]
          },
          "metadata": {},
          "execution_count": 134
        }
      ],
      "source": [
        "from sklearn.preprocessing import PolynomialFeatures\n",
        "\n",
        "X_poly_2_2 = PolynomialFeatures(degree=3, include_bias=False).fit_transform(X2)\n",
        "regr_poly_2_2 = ElasticNet(max_iter = 10000)\n",
        "\n",
        "X_train_poly_2_2, X_test_poly_2_2, Y_train_poly_2_2, Y_test_poly_2_2 = train_test_split(X_poly_2_2, Y2, test_size = 0.2, random_state = 1)\n",
        "\n",
        "regr_poly_2_2.fit(X_train_poly_2_2, Y_train_poly_2_2)"
      ]
    },
    {
      "cell_type": "code",
      "execution_count": 136,
      "metadata": {
        "id": "EVrc1Q2K87oW"
      },
      "outputs": [],
      "source": [
        "preds_train_poly_2_2 = regr_poly_2_2.predict(X_train_poly_2_2)\n",
        "preds_test_poly_2_2 = regr_poly_2_2.predict(X_test_poly_2_2)"
      ]
    },
    {
      "cell_type": "code",
      "execution_count": 137,
      "metadata": {
        "colab": {
          "base_uri": "https://localhost:8080/"
        },
        "outputId": "37867167-2fe6-4369-cfa0-0c119e1dd3da",
        "id": "FupwSS_K87oW"
      },
      "outputs": [
        {
          "output_type": "execute_result",
          "data": {
            "text/plain": [
              "(48.52009072372303, 47.64859258781962)"
            ]
          },
          "metadata": {},
          "execution_count": 137
        }
      ],
      "source": [
        "np.sqrt(mean_squared_error(Y_train_poly_2_2, preds_train_poly_2_2)), np.sqrt(mean_squared_error(Y_test_poly_2_2, preds_test_poly_2_2))"
      ]
    },
    {
      "cell_type": "markdown",
      "source": [
        "Como se esperaba cuando se hizo este modelo, este fue el mejor moelo tanto en error de training cómo en error de testing, por lo que se considera que este es el mejor modelo."
      ],
      "metadata": {
        "id": "DyWHBbY8EKhG"
      }
    },
    {
      "cell_type": "markdown",
      "source": [
        "Cabe recalcar que este modelo igual no es idoneo, puesto que todavia tienen un error muy alto como y no genera predicciones realistas de la popularidad de un inmueble. Debido a que se probaron varias cosas que se podian tratr en modelos de regresión lineales y polinomiales sin buenos resultados, se puede concluir que este problema requiere de modelos más sofisticados para ser resuelto correctamente."
      ],
      "metadata": {
        "id": "cSLRSEUKFayW"
      }
    },
    {
      "cell_type": "markdown",
      "source": [
        "# Predicción para inmuebles nuevos"
      ],
      "metadata": {
        "id": "qqGvhn6lGNkF"
      }
    },
    {
      "cell_type": "markdown",
      "source": [
        "Utilice el mejor modelo obtenido para estimar la popularidad de los\n",
        "inmuebles próximos a publicarse. A partir de este resultado, apoye a la inmobiliaria en la definición del presupuesto de marketing que debe aprovisionar para promocionar los inmuebles menos populares sabiendo que la plataforma en la que se publican cobra por anuncio el 2% del precio del inmueble. Por ejemplo, si un inmueble tiene como precio $200, la plataforma cobrará por publicar un anuncio para el inmueble un total de $4. Usted es el encargado,a partir de los resultados de las predicciones, de definir el límite superior de comentarios para considerar un inmueble no popular. Explique esta decisión claramente así como el total de presupuesto que se debe aprovisionar acompañado del total de inmuebles a\n",
        "promocionar."
      ],
      "metadata": {
        "id": "mKQTFGezGiq-"
      }
    },
    {
      "cell_type": "markdown",
      "source": [
        "Se utilizara el ultimo modelo puesto que fue el que mejorers resultados tuvo (Aunque por muy poco) para este analisis. Lo primero que se hace es hacer las predicciones para el dataset de nuevos inmuebles."
      ],
      "metadata": {
        "id": "b5K08xruvemY"
      }
    },
    {
      "cell_type": "code",
      "source": [
        "X_new = new_estate_df[features2]\n",
        "X_new_poly = PolynomialFeatures(degree=3, include_bias=False).fit_transform(X_new)\n",
        "preds_new = regr_poly_2_2.predict(X_new_poly)"
      ],
      "metadata": {
        "id": "WQrqjlFqGh5P"
      },
      "execution_count": 138,
      "outputs": []
    },
    {
      "cell_type": "markdown",
      "source": [
        "Para estudiar decidir el valor en el cual consideramos un inmueble impopular se estudiara la distribución de los rates de inmuebles historicos y las predicciones de los inmuebles nuevos."
      ],
      "metadata": {
        "id": "GwG6X2Vbv28F"
      }
    },
    {
      "cell_type": "code",
      "source": [
        "reviews_serie = estate_df['number of reviews']\n",
        "min_reviews = reviews_serie.quantile(0)\n",
        "median_reviews = reviews_serie.quantile(0.5)\n",
        "average_reviews = reviews_serie.mean()\n",
        "max_reviews = reviews_serie.quantile(1)\n",
        "print(f'Min: {min_reviews} Median: {median_reviews} Average: {average_reviews} Max : {max_reviews}')"
      ],
      "metadata": {
        "colab": {
          "base_uri": "https://localhost:8080/"
        },
        "id": "nqEBNOORo3Nh",
        "outputId": "3d535227-6c05-425c-efa0-9cf8c8d9a852"
      },
      "execution_count": 139,
      "outputs": [
        {
          "output_type": "stream",
          "name": "stdout",
          "text": [
            "Min: 0.0 Median: 7.0 Average: 27.453102209698063 Max : 1024.0\n"
          ]
        }
      ]
    },
    {
      "cell_type": "code",
      "source": [
        "histogram('number of reviews', min_reviews, max_reviews, int(max_reviews), ylim= 4000)"
      ],
      "metadata": {
        "colab": {
          "base_uri": "https://localhost:8080/",
          "height": 544
        },
        "id": "Fs4nWCmPosXH",
        "outputId": "7f8b7bdf-e4a6-44d2-a69c-8a131d16dac6"
      },
      "execution_count": 140,
      "outputs": [
        {
          "output_type": "display_data",
          "data": {
            "text/plain": [
              "<Figure size 1080x648 with 1 Axes>"
            ],
            "image/png": "[encoded data removed]"
          },
          "metadata": {}
        }
      ]
    },
    {
      "cell_type": "code",
      "source": [
        "reviews_serie = pd.Series(preds_new)\n",
        "min_reviews = reviews_serie.quantile(0)\n",
        "median_reviews = reviews_serie.quantile(0.5)\n",
        "average_reviews = reviews_serie.mean()\n",
        "max_reviews = reviews_serie.quantile(1)\n",
        "print(f'Min: {min_reviews} Median: {median_reviews} Average: {average_reviews} Max : {max_reviews}')"
      ],
      "metadata": {
        "colab": {
          "base_uri": "https://localhost:8080/"
        },
        "id": "gMpqq7maqQVM",
        "outputId": "f8da8b41-baba-481f-b7f6-cd50a13ef13b"
      },
      "execution_count": 141,
      "outputs": [
        {
          "output_type": "stream",
          "name": "stdout",
          "text": [
            "Min: -14755531.349933859 Median: 27.872787608941053 Average: -28736.12378340079 Max : 57.05719432572664\n"
          ]
        }
      ]
    },
    {
      "cell_type": "markdown",
      "source": [
        "Se puede observar que la mayoria de inmuebles se encuentran en valores menores a 30, por lo tanto la gran mayoria de inmubles son impopulares y esto me hace pensar que un buen valor para decir que un imueble impopular es ek que tiene menos de 28 reviews pues esta es la mediana de los inmuebles nuevos y se estaria tomando en cuenta la mayoria de inmuebles no populares."
      ],
      "metadata": {
        "id": "QIE-2JadwNM9"
      }
    },
    {
      "cell_type": "code",
      "source": [
        "estate_to_advertise = new_estate_df.iloc[np.where(reviews_serie < 28)]\n",
        "print(f\"El total a pagar es de {estate_to_advertise['price'].sum()*0.02} dolares\")"
      ],
      "metadata": {
        "colab": {
          "base_uri": "https://localhost:8080/"
        },
        "id": "mjc57gvjrhyE",
        "outputId": "9ccd5ad3-ce56-4446-d304-62313fdb39bd"
      },
      "execution_count": 157,
      "outputs": [
        {
          "output_type": "stream",
          "name": "stdout",
          "text": [
            "El total a pagar es de 2294.9498000000003 dolares\n"
          ]
        }
      ]
    },
    {
      "cell_type": "markdown",
      "source": [
        "Segun el analisis el total a invertir en anuncios de la inmobilaria de los alpes es de casi 2300 dolares que es un 2% del valor de todos los inmuebles con una predicción de menos de 27."
      ],
      "metadata": {
        "id": "BlEFt6-AxMJ-"
      }
    },
    {
      "cell_type": "markdown",
      "source": [
        "Cabe recalcar que el modelo predictivo no es el mejor y se deberia mejorar antes de tomar una decisión concreta de cuanto invertir."
      ],
      "metadata": {
        "id": "NO1dTIP4rAlJ"
      }
    }
  ],
  "metadata": {
    "colab": {
      "collapsed_sections": [],
      "provenance": []
    },
    "kernelspec": {
      "display_name": "Python 3 (ipykernel)",
      "language": "python",
      "name": "python3"
    },
    "language_info": {
      "codemirror_mode": {
        "name": "ipython",
        "version": 3
      },
      "file_extension": ".py",
      "mimetype": "text/x-python",
      "name": "python",
      "nbconvert_exporter": "python",
      "pygments_lexer": "ipython3",
      "version": "3.9.12"
    }
  },
  "nbformat": 4,
  "nbformat_minor": 0
}